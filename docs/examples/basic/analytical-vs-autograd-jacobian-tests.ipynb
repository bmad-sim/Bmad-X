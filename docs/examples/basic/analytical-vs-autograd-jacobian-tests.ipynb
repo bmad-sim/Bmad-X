{
 "cells": [
  {
   "cell_type": "markdown",
   "id": "cfe2f3e6-ab7f-4493-8ca4-acd56731bc0b",
   "metadata": {
    "tags": []
   },
   "source": [
    "# Pytorch autograd Jacobians vs Bmad analytical transfer matrices\n",
    "In this example, we track single particles through different elements and calculate the Jacobian matrix by using PyTorch autograd. We compare the results with bmad_standard, which uses analytic formulas to calculate the Jacobian. We also test functionalities such as element offsets and tilts. As of now, only transverse transformations are supported."
   ]
  },
  {
   "cell_type": "code",
   "execution_count": 1,
   "id": "8af3d886-d3bd-4e34-9556-d645ee9f761e",
   "metadata": {
    "tags": []
   },
   "outputs": [],
   "source": [
    "import torch\n",
    "from pytao import Tao\n",
    "torch.set_printoptions(precision= 15, sci_mode=True)"
   ]
  },
  {
   "cell_type": "code",
   "execution_count": 2,
   "id": "75849dda-45a9-477f-8940-b64dd8a15b5f",
   "metadata": {},
   "outputs": [
    {
     "data": {
      "text/plain": [
       "'/global/u1/j/jpga/PS_Reconstruction/Bmad-X'"
      ]
     },
     "execution_count": 2,
     "metadata": {},
     "output_type": "execute_result"
    }
   ],
   "source": [
    "from pathlib import Path\n",
    "\n",
    "def find_repo(path):\n",
    "    \"Find repository root from the path's parents\"\n",
    "    for path in Path(path).parents:\n",
    "        # Check whether \"path/.git\" exists and is a directory\n",
    "        git_dir = path / \".git\"\n",
    "        if git_dir.is_dir():\n",
    "            return path\n",
    "\n",
    "import os\n",
    "nb_dir = os.getcwd()\n",
    "# Find the repo root where the script is\n",
    "repo_path = str(find_repo(nb_dir))\n",
    "repo_path"
   ]
  },
  {
   "cell_type": "code",
   "execution_count": 3,
   "id": "22f5b59f-a16b-4e85-bc07-d9a6022c9dc2",
   "metadata": {
    "tags": []
   },
   "outputs": [
    {
     "data": {
      "text/plain": [
       "Particle(x=tensor(2.000000000000000e-03, dtype=torch.float64), px=tensor(3.000000000000000e-03, dtype=torch.float64), y=tensor(-3.000000000000000e-03, dtype=torch.float64), py=tensor(-1.000000000000000e-03, dtype=torch.float64), z=tensor(2.000000000000000e-03, dtype=torch.float64), pz=tensor(-2.000000000000000e-03, dtype=torch.float64), s=tensor(0., dtype=torch.float64), p0c=tensor(4.000000000000000e+07, dtype=torch.float64), mc2=tensor( 5.109989500000000e+05, dtype=torch.float64))"
      ]
     },
     "execution_count": 3,
     "metadata": {},
     "output_type": "execute_result"
    }
   ],
   "source": [
    "# create incoming particle\n",
    "from bmadx import Particle\n",
    "from bmadx import M_ELECTRON\n",
    "\n",
    "coords = [2e-3,3e-3,-3e-3,-1e-3,2e-3,-2e-3]\n",
    "coords_t = torch.tensor(coords, dtype=torch.double)\n",
    "p_in = Particle(*coords_t,\n",
    "                s = torch.tensor(0.0, dtype=torch.double),\n",
    "                p0c = torch.tensor(4.0e7, dtype=torch.double),\n",
    "                mc2 = torch.tensor(M_ELECTRON, dtype=torch.double))\n",
    "p_in"
   ]
  },
  {
   "cell_type": "markdown",
   "id": "7638cac6-72c7-4e95-ae44-6ff97b375ae3",
   "metadata": {
    "tags": []
   },
   "source": [
    "# Drift tests"
   ]
  },
  {
   "cell_type": "code",
   "execution_count": 4,
   "id": "ee6fdf69-c492-4bc0-83c9-9b6a0400ef1f",
   "metadata": {
    "tags": []
   },
   "outputs": [
    {
     "data": {
      "text/plain": [
       "Drift(L=1.0)"
      ]
     },
     "execution_count": 4,
     "metadata": {},
     "output_type": "execute_result"
    }
   ],
   "source": [
    "# Create drift\n",
    "from bmadx.structures import Drift\n",
    "\n",
    "d = Drift(L=1.0)\n",
    "d"
   ]
  },
  {
   "cell_type": "markdown",
   "id": "f47cc1d4-c514-4f23-a70b-b692e4a0c4dc",
   "metadata": {
    "tags": []
   },
   "source": [
    "## Drift one particle test"
   ]
  },
  {
   "cell_type": "code",
   "execution_count": 5,
   "id": "2f852ced-da43-4f95-8578-779f46d15eb1",
   "metadata": {},
   "outputs": [
    {
     "data": {
      "text/plain": [
       "tensor([5.006027114522933e-03, 3.000000000000000e-03, -4.002009038174311e-03,\n",
       "        -1.000000000000000e-03, 1.994652573892362e-03, -2.000000000000000e-03],\n",
       "       dtype=torch.float64)"
      ]
     },
     "execution_count": 5,
     "metadata": {},
     "output_type": "execute_result"
    }
   ],
   "source": [
    "# Outgoing particle:\n",
    "from bmadx.track import track_element\n",
    "\n",
    "p_out = track_element(p_in, d)\n",
    "\n",
    "# coordinates as tensor:\n",
    "x_py = torch.hstack(p_out[:6])\n",
    "x_py"
   ]
  },
  {
   "cell_type": "code",
   "execution_count": 6,
   "id": "7a6c2d68-8d1e-4eaa-9fd0-aa67111276da",
   "metadata": {
    "tags": []
   },
   "outputs": [],
   "source": [
    "# bmad lattice for comparison\n",
    "tao = Tao('-lat '+repo_path+'/tests/bmad_lattices/test_drift.bmad -noplot')\n",
    "tao.cmd('set particle_start x='+str(coords[0]))\n",
    "tao.cmd('set particle_start px='+str(coords[1]))\n",
    "tao.cmd('set particle_start y='+str(coords[2]))\n",
    "tao.cmd('set particle_start py='+str(coords[3]))\n",
    "tao.cmd('set particle_start z='+str(coords[4]))\n",
    "tao.cmd('set particle_start pz='+str(coords[5]))\n",
    "orbit_out=tao.orbit_at_s(ele=1)"
   ]
  },
  {
   "cell_type": "code",
   "execution_count": 7,
   "id": "f986a53a-edc8-48cc-93b7-28911872bc94",
   "metadata": {},
   "outputs": [
    {
     "data": {
      "text/plain": [
       "tensor([5.006027114522930e-03, 3.000000000000000e-03, -4.002009038174310e-03,\n",
       "        -1.000000000000000e-03, 1.994652573892360e-03, -2.000000000000000e-03],\n",
       "       dtype=torch.float64)"
      ]
     },
     "execution_count": 7,
     "metadata": {},
     "output_type": "execute_result"
    }
   ],
   "source": [
    "# bmad outgoing particle\n",
    "x_tao = torch.tensor([orbit_out['x'],\n",
    "                      orbit_out['px'],\n",
    "                      orbit_out['y'],\n",
    "                      orbit_out['py'],\n",
    "                      orbit_out['z'],\n",
    "                      orbit_out['pz']], dtype=torch.double)\n",
    "x_tao"
   ]
  },
  {
   "cell_type": "code",
   "execution_count": 8,
   "id": "729e2c24-ee37-4d5b-8b76-81d1f5107dbf",
   "metadata": {},
   "outputs": [
    {
     "data": {
      "text/plain": [
       "True"
      ]
     },
     "execution_count": 8,
     "metadata": {},
     "output_type": "execute_result"
    }
   ],
   "source": [
    "torch.allclose(x_py, x_tao, atol=0, rtol=1.0e-14)"
   ]
  },
  {
   "cell_type": "markdown",
   "id": "d8fae022-eda1-4b37-89a3-48d9c9fc3ddb",
   "metadata": {
    "tags": []
   },
   "source": [
    "## Drift Jacobian test"
   ]
  },
  {
   "cell_type": "code",
   "execution_count": 9,
   "id": "062c3a71-b3b9-48b5-85a3-d332f716496d",
   "metadata": {},
   "outputs": [
    {
     "data": {
      "text/plain": [
       "tensor([[ 1.000000000000000e+00,  1.002018092527393e+00,  0.000000000000000e+00,\n",
       "         -3.018117694005117e-06,  0.000000000000000e+00, -3.012081458617107e-03],\n",
       "        [ 0.000000000000000e+00,  1.000000000000000e+00,  0.000000000000000e+00,\n",
       "          0.000000000000000e+00,  0.000000000000000e+00,  0.000000000000000e+00],\n",
       "        [ 0.000000000000000e+00, -3.018117694005117e-06,  1.000000000000000e+00,\n",
       "          1.002010044213542e+00,  0.000000000000000e+00,  1.004027152872369e-03],\n",
       "        [ 0.000000000000000e+00,  0.000000000000000e+00,  0.000000000000000e+00,\n",
       "          1.000000000000000e+00,  0.000000000000000e+00,  0.000000000000000e+00],\n",
       "        [ 0.000000000000000e+00, -3.012081458617106e-03,  0.000000000000000e+00,\n",
       "          1.004027152872369e-03,  1.000000000000000e+00,  1.742165247481025e-04],\n",
       "        [ 0.000000000000000e+00,  0.000000000000000e+00,  0.000000000000000e+00,\n",
       "          0.000000000000000e+00,  0.000000000000000e+00,  1.000000000000000e+00]],\n",
       "       dtype=torch.float64)"
      ]
     },
     "execution_count": 9,
     "metadata": {},
     "output_type": "execute_result"
    }
   ],
   "source": [
    "# autodiff Jacobian\n",
    "from torch.autograd.functional import jacobian\n",
    "\n",
    "f_drift = lambda x: track_element(Particle(*x, s=p_in.s, p0c=p_in.p0c, mc2=p_in.mc2), d)[:6]\n",
    "\n",
    "diff_coords = coords_t.clone().detach().requires_grad_(True)\n",
    "\n",
    "J = jacobian(f_drift, diff_coords)\n",
    "mat_py = torch.vstack(J)\n",
    "mat_py"
   ]
  },
  {
   "cell_type": "code",
   "execution_count": 10,
   "id": "9f168d28-5c4a-4db0-a649-c8bde823496c",
   "metadata": {},
   "outputs": [
    {
     "data": {
      "text/plain": [
       "tensor([[ 1.000000000000000e+00,  1.002018092527390e+00,  0.000000000000000e+00,\n",
       "         -3.018117694005120e-06,  0.000000000000000e+00, -3.012081458617110e-03],\n",
       "        [ 0.000000000000000e+00,  1.000000000000000e+00,  0.000000000000000e+00,\n",
       "          0.000000000000000e+00,  0.000000000000000e+00,  0.000000000000000e+00],\n",
       "        [ 0.000000000000000e+00, -3.018117694005120e-06,  1.000000000000000e+00,\n",
       "          1.002010044213540e+00,  0.000000000000000e+00,  1.004027152872370e-03],\n",
       "        [ 0.000000000000000e+00,  0.000000000000000e+00,  0.000000000000000e+00,\n",
       "          1.000000000000000e+00,  0.000000000000000e+00,  0.000000000000000e+00],\n",
       "        [ 0.000000000000000e+00, -3.012081458617110e-03,  0.000000000000000e+00,\n",
       "          1.004027152872370e-03,  1.000000000000000e+00,  1.742165247481030e-04],\n",
       "        [ 0.000000000000000e+00,  0.000000000000000e+00,  0.000000000000000e+00,\n",
       "          0.000000000000000e+00,  0.000000000000000e+00,  1.000000000000000e+00]],\n",
       "       dtype=torch.float64)"
      ]
     },
     "execution_count": 10,
     "metadata": {},
     "output_type": "execute_result"
    }
   ],
   "source": [
    "# Bmad analytical Jacobian\n",
    "drift_tao = tao.matrix(0,1)\n",
    "mat_tao = torch.tensor(drift_tao['mat6'])\n",
    "mat_tao"
   ]
  },
  {
   "cell_type": "code",
   "execution_count": 11,
   "id": "4707f2f9-3e23-4497-9dda-78205b54965f",
   "metadata": {},
   "outputs": [
    {
     "data": {
      "text/plain": [
       "True"
      ]
     },
     "execution_count": 11,
     "metadata": {},
     "output_type": "execute_result"
    }
   ],
   "source": [
    "# is it close to Tao result?\n",
    "torch.allclose(mat_py, mat_tao, atol=0, rtol=1.0e-14)"
   ]
  },
  {
   "cell_type": "markdown",
   "id": "c3f3188a-39d8-4d68-bb0e-131a8dbb22a6",
   "metadata": {
    "tags": []
   },
   "source": [
    "# Quadrupole tests"
   ]
  },
  {
   "cell_type": "code",
   "execution_count": 12,
   "id": "5dcd7b1a-ba3f-4b45-a5e6-455650fd6598",
   "metadata": {
    "tags": []
   },
   "outputs": [
    {
     "data": {
      "text/plain": [
       "Quadrupole(L=0.1, K1=10.0, NUM_STEPS=1, X_OFFSET=0.0, Y_OFFSET=0.0, TILT=0.0)"
      ]
     },
     "execution_count": 12,
     "metadata": {},
     "output_type": "execute_result"
    }
   ],
   "source": [
    "# Create quad\n",
    "from bmadx.structures import Quadrupole\n",
    "\n",
    "q = Quadrupole(L=0.1, K1=10.0)\n",
    "q"
   ]
  },
  {
   "cell_type": "markdown",
   "id": "b73fdb87-f4bd-4b42-8ad9-6eb54030ad99",
   "metadata": {
    "tags": []
   },
   "source": [
    "## Quadrupole one particle test"
   ]
  },
  {
   "cell_type": "code",
   "execution_count": 13,
   "id": "0d16dea9-7c66-4c92-bd7e-b0bca1097b8f",
   "metadata": {},
   "outputs": [
    {
     "data": {
      "text/plain": [
       "tensor([2.196239719302552e-03, 8.841834264853368e-04, -3.253441973269224e-03,\n",
       "        -4.100871741572859e-03, 1.999394664225331e-03, -2.000000000000000e-03],\n",
       "       dtype=torch.float64)"
      ]
     },
     "execution_count": 13,
     "metadata": {},
     "output_type": "execute_result"
    }
   ],
   "source": [
    "# Outgoing particle\n",
    "p_out = track_element(p_in, q)\n",
    "\n",
    "x_py = torch.hstack(p_out[:6])\n",
    "x_py"
   ]
  },
  {
   "cell_type": "code",
   "execution_count": 14,
   "id": "7670ad81-5961-41bc-8719-1e23e97fb9a0",
   "metadata": {},
   "outputs": [],
   "source": [
    "# Bmad lattice to compare\n",
    "tao = Tao('-lat '+repo_path+'/tests/bmad_lattices/test_quad.bmad -noplot')\n",
    "tao.cmd('set particle_start x='+str(coords[0]))\n",
    "tao.cmd('set particle_start px='+str(coords[1]))\n",
    "tao.cmd('set particle_start y='+str(coords[2]))\n",
    "tao.cmd('set particle_start py='+str(coords[3]))\n",
    "tao.cmd('set particle_start z='+str(coords[4]))\n",
    "tao.cmd('set particle_start pz='+str(coords[5]))\n",
    "orbit_out = tao.orbit_at_s(ele=1)"
   ]
  },
  {
   "cell_type": "code",
   "execution_count": 15,
   "id": "82aa9e17-97ec-4556-93d1-2f54163d7f35",
   "metadata": {},
   "outputs": [
    {
     "data": {
      "text/plain": [
       "tensor([2.196239719302550e-03, 8.841834264853370e-04, -3.253441973269220e-03,\n",
       "        -4.100871741572860e-03, 1.999394664225330e-03, -2.000000000000000e-03],\n",
       "       dtype=torch.float64)"
      ]
     },
     "execution_count": 15,
     "metadata": {},
     "output_type": "execute_result"
    }
   ],
   "source": [
    "# Bmad outgoing particle\n",
    "x_tao = torch.tensor([orbit_out['x'],\n",
    "                      orbit_out['px'],\n",
    "                      orbit_out['y'],\n",
    "                      orbit_out['py'],\n",
    "                      orbit_out['z'],\n",
    "                      orbit_out['pz']], dtype=torch.double)\n",
    "x_tao"
   ]
  },
  {
   "cell_type": "code",
   "execution_count": 16,
   "id": "0174f8be-14cc-4aab-8b10-cecb0f044eb3",
   "metadata": {},
   "outputs": [
    {
     "data": {
      "text/plain": [
       "True"
      ]
     },
     "execution_count": 16,
     "metadata": {},
     "output_type": "execute_result"
    }
   ],
   "source": [
    "# close to Tao result?\n",
    "torch.allclose(x_py, x_tao, atol=0, rtol=1.0e-14)"
   ]
  },
  {
   "cell_type": "markdown",
   "id": "18d8ab23-f846-44e9-88c9-987b2267f9a1",
   "metadata": {
    "tags": []
   },
   "source": [
    "## Quadrupole Jacobian test"
   ]
  },
  {
   "cell_type": "code",
   "execution_count": 17,
   "id": "ea343dea-8c1f-4ce8-8d5c-3aa0f89d9812",
   "metadata": {},
   "outputs": [
    {
     "data": {
      "text/plain": [
       "tensor([[ 9.503167431875498e-01,  9.853541097581728e-02,  0.000000000000000e+00,\n",
       "          0.000000000000000e+00,  0.000000000000000e+00, -1.924858550317723e-04],\n",
       "        [-9.833834015386563e-01,  9.503167431875498e-01, -0.000000000000000e+00,\n",
       "          0.000000000000000e+00,  0.000000000000000e+00,  1.149663908944082e-04],\n",
       "        [ 0.000000000000000e+00,  0.000000000000000e+00,  1.050519938506054e+00,\n",
       "          1.018821577510623e-01,  0.000000000000000e+00,  2.569093937337833e-04],\n",
       "        [-0.000000000000000e+00,  0.000000000000000e+00,  1.016783934355602e+00,\n",
       "          1.050519938506054e+00,  0.000000000000000e+00,  1.017485822657404e-04],\n",
       "        [ 8.003290869842023e-05, -1.942507914386516e-04,  1.543324297486644e-04,\n",
       "          2.595220753974964e-04,  1.000000000000000e+00,  1.756709202142694e-05],\n",
       "        [ 0.000000000000000e+00,  0.000000000000000e+00,  0.000000000000000e+00,\n",
       "          0.000000000000000e+00,  0.000000000000000e+00,  1.000000000000000e+00]],\n",
       "       dtype=torch.float64)"
      ]
     },
     "execution_count": 17,
     "metadata": {},
     "output_type": "execute_result"
    }
   ],
   "source": [
    "# autodiff Jacobian matrix\n",
    "f_quadrupole = lambda x: track_element(Particle(*x, s=p_in.s, p0c=p_in.p0c, mc2=p_in.mc2), q)[:6]\n",
    "\n",
    "J = jacobian(f_quadrupole, diff_coords)\n",
    "mat_py = torch.vstack(J)\n",
    "mat_py"
   ]
  },
  {
   "cell_type": "code",
   "execution_count": 18,
   "id": "9e6cd8cc-4f9d-4072-a48b-b27961ad5762",
   "metadata": {},
   "outputs": [
    {
     "data": {
      "text/plain": [
       "tensor([[ 9.503167431875500e-01,  9.853541097581731e-02,  0.000000000000000e+00,\n",
       "          0.000000000000000e+00,  0.000000000000000e+00, -1.924858550317720e-04],\n",
       "        [-9.833834015386560e-01,  9.503167431875500e-01,  0.000000000000000e+00,\n",
       "          0.000000000000000e+00,  0.000000000000000e+00,  1.149663908944080e-04],\n",
       "        [ 0.000000000000000e+00,  0.000000000000000e+00,  1.050519938506050e+00,\n",
       "          1.018821577510620e-01,  0.000000000000000e+00,  2.569093937337830e-04],\n",
       "        [ 0.000000000000000e+00,  0.000000000000000e+00,  1.016783934355600e+00,\n",
       "          1.050519938506050e+00,  0.000000000000000e+00,  1.017485822657410e-04],\n",
       "        [ 8.003290869842020e-05, -1.942507914386520e-04,  1.543324297486640e-04,\n",
       "          2.595220753974960e-04,  1.000000000000000e+00,  1.756709202142690e-05],\n",
       "        [ 0.000000000000000e+00,  0.000000000000000e+00,  0.000000000000000e+00,\n",
       "          0.000000000000000e+00,  0.000000000000000e+00,  1.000000000000000e+00]],\n",
       "       dtype=torch.float64)"
      ]
     },
     "execution_count": 18,
     "metadata": {},
     "output_type": "execute_result"
    }
   ],
   "source": [
    "# Bmad formula Jacobian\n",
    "quad_tao = tao.matrix(0,1)\n",
    "mat_tao = torch.tensor(quad_tao['mat6'])\n",
    "mat_tao"
   ]
  },
  {
   "cell_type": "code",
   "execution_count": 19,
   "id": "daea008b-7368-4f75-9fe0-fb3de156d68f",
   "metadata": {},
   "outputs": [
    {
     "data": {
      "text/plain": [
       "True"
      ]
     },
     "execution_count": 19,
     "metadata": {},
     "output_type": "execute_result"
    }
   ],
   "source": [
    "# close to Tao result?\n",
    "torch.allclose(mat_py, mat_tao, atol=0, rtol=1.0e-14)"
   ]
  },
  {
   "cell_type": "markdown",
   "id": "f973149b-da83-4b8c-9da4-88b4578c9ebe",
   "metadata": {
    "tags": []
   },
   "source": [
    "## Quadrupole offset test"
   ]
  },
  {
   "cell_type": "code",
   "execution_count": 20,
   "id": "4542eae6-b1b7-4438-a985-fe7733144f54",
   "metadata": {},
   "outputs": [
    {
     "data": {
      "text/plain": [
       "Quadrupole(L=0.1, K1=10.0, NUM_STEPS=1, X_OFFSET=0.001, Y_OFFSET=-0.002, TILT=0.0)"
      ]
     },
     "execution_count": 20,
     "metadata": {},
     "output_type": "execute_result"
    }
   ],
   "source": [
    "# Create quad with offsetss\n",
    "q_off = Quadrupole(L = 0.1,\n",
    "                   K1 = 10.0,\n",
    "                   X_OFFSET = 1e-3,\n",
    "                   Y_OFFSET = -2e-3)\n",
    "q_off"
   ]
  },
  {
   "cell_type": "code",
   "execution_count": 21,
   "id": "eef795f4-4537-4430-853f-fa81c201a181",
   "metadata": {},
   "outputs": [
    {
     "data": {
      "text/plain": [
       "tensor([2.196239719302552e-03, 8.841834264853368e-04, -3.253441973269224e-03,\n",
       "        -4.100871741572859e-03, 1.999394664225331e-03, -2.000000000000000e-03],\n",
       "       dtype=torch.float64)"
      ]
     },
     "execution_count": 21,
     "metadata": {},
     "output_type": "execute_result"
    }
   ],
   "source": [
    "# Outgoing particle no offset\n",
    "p_out = track_element(p_in, q)\n",
    "\n",
    "x_py = torch.hstack(p_out[:6])\n",
    "x_py"
   ]
  },
  {
   "cell_type": "code",
   "execution_count": 22,
   "id": "7d5f8fdd-2fe1-4e40-a4e8-4547779a8cf3",
   "metadata": {},
   "outputs": [
    {
     "data": {
      "text/plain": [
       "tensor([2.245922976115002e-03, 1.867566828023993e-03, -3.152402096257116e-03,\n",
       "        -2.067303872861656e-03, 1.999538606428305e-03, -2.000000000000000e-03],\n",
       "       dtype=torch.float64)"
      ]
     },
     "execution_count": 22,
     "metadata": {},
     "output_type": "execute_result"
    }
   ],
   "source": [
    "# Outgoing particle offset\n",
    "p_out = track_element(p_in, q_off)\n",
    "\n",
    "x_py = torch.hstack(p_out[:6])\n",
    "x_py"
   ]
  },
  {
   "cell_type": "code",
   "execution_count": 23,
   "id": "3d6da4fc-be97-465f-923e-9b89394ed2fa",
   "metadata": {},
   "outputs": [],
   "source": [
    "# Bmad lattice to compare\n",
    "tao = Tao('-lat '+repo_path+'/tests/bmad_lattices/test_quad_offset.bmad -noplot')\n",
    "tao.cmd('set particle_start x='+str(coords[0]))\n",
    "tao.cmd('set particle_start px='+str(coords[1]))\n",
    "tao.cmd('set particle_start y='+str(coords[2]))\n",
    "tao.cmd('set particle_start py='+str(coords[3]))\n",
    "tao.cmd('set particle_start z='+str(coords[4]))\n",
    "tao.cmd('set particle_start pz='+str(coords[5]))\n",
    "orbit_out = tao.orbit_at_s(ele=1)"
   ]
  },
  {
   "cell_type": "code",
   "execution_count": 24,
   "id": "54771004-092a-4669-9429-7b33b867dbea",
   "metadata": {
    "tags": []
   },
   "outputs": [
    {
     "data": {
      "text/plain": [
       "tensor([2.245922976115000e-03, 1.867566828023990e-03, -3.152402096257120e-03,\n",
       "        -2.067303872861660e-03, 1.999538606428300e-03, -2.000000000000000e-03],\n",
       "       dtype=torch.float64)"
      ]
     },
     "execution_count": 24,
     "metadata": {},
     "output_type": "execute_result"
    }
   ],
   "source": [
    "# Bmad outgoing particle\n",
    "x_tao = torch.tensor([orbit_out['x'],\n",
    "                      orbit_out['px'],\n",
    "                      orbit_out['y'],\n",
    "                      orbit_out['py'],\n",
    "                      orbit_out['z'],\n",
    "                      orbit_out['pz']], dtype=torch.double)\n",
    "x_tao"
   ]
  },
  {
   "cell_type": "code",
   "execution_count": 25,
   "id": "fda592ee-2116-436b-a46a-2d7be549a8f5",
   "metadata": {},
   "outputs": [
    {
     "data": {
      "text/plain": [
       "True"
      ]
     },
     "execution_count": 25,
     "metadata": {},
     "output_type": "execute_result"
    }
   ],
   "source": [
    "# close to Tao result?\n",
    "torch.allclose(x_py, x_tao, atol=0, rtol=1.0e-14)"
   ]
  },
  {
   "cell_type": "code",
   "execution_count": 26,
   "id": "0ce18e70-4ad0-45fe-b148-4da792951324",
   "metadata": {},
   "outputs": [
    {
     "data": {
      "text/plain": [
       "tensor([[ 9.503167431875498e-01,  9.853541097581728e-02,  0.000000000000000e+00,\n",
       "          0.000000000000000e+00,  0.000000000000000e+00, -2.418522933964102e-04],\n",
       "        [-9.833834015386563e-01,  9.503167431875498e-01, -0.000000000000000e+00,\n",
       "          0.000000000000000e+00,  0.000000000000000e+00,  1.315328529941612e-04],\n",
       "        [ 0.000000000000000e+00,  0.000000000000000e+00,  1.050519938506054e+00,\n",
       "          1.018821577510623e-01,  0.000000000000000e+00,  1.548230633218972e-04],\n",
       "        [-0.000000000000000e+00,  0.000000000000000e+00,  1.016783934355602e+00,\n",
       "          1.050519938506054e+00,  0.000000000000000e+00,  6.794497089254226e-05],\n",
       "        [ 1.128356584705092e-04, -2.427969275195176e-04,  8.604405680959595e-05,\n",
       "          1.557223347173730e-04,  1.000000000000000e+00,  1.726852196136135e-05],\n",
       "        [ 0.000000000000000e+00,  0.000000000000000e+00,  0.000000000000000e+00,\n",
       "          0.000000000000000e+00,  0.000000000000000e+00,  1.000000000000000e+00]],\n",
       "       dtype=torch.float64)"
      ]
     },
     "execution_count": 26,
     "metadata": {},
     "output_type": "execute_result"
    }
   ],
   "source": [
    "# autodiff Jacobian matrix\n",
    "f_quadrupole_off = lambda x: track_element(Particle(*x, s=p_in.s, p0c=p_in.p0c, mc2=p_in.mc2), q_off)[:6]\n",
    "\n",
    "J = jacobian(f_quadrupole_off, diff_coords)\n",
    "mat_py = torch.vstack(J)\n",
    "mat_py"
   ]
  },
  {
   "cell_type": "code",
   "execution_count": 27,
   "id": "c651d04b-752c-4b4e-8ef8-cfd6e6003933",
   "metadata": {},
   "outputs": [
    {
     "data": {
      "text/plain": [
       "tensor([[ 9.503167431875500e-01,  9.853541097581731e-02,  0.000000000000000e+00,\n",
       "          0.000000000000000e+00,  0.000000000000000e+00, -2.418522933964100e-04],\n",
       "        [-9.833834015386560e-01,  9.503167431875500e-01,  0.000000000000000e+00,\n",
       "          0.000000000000000e+00,  0.000000000000000e+00,  1.315328529941610e-04],\n",
       "        [ 0.000000000000000e+00,  0.000000000000000e+00,  1.050519938506050e+00,\n",
       "          1.018821577510620e-01,  0.000000000000000e+00,  1.548230633218970e-04],\n",
       "        [ 0.000000000000000e+00,  0.000000000000000e+00,  1.016783934355600e+00,\n",
       "          1.050519938506050e+00,  0.000000000000000e+00,  6.794497089254231e-05],\n",
       "        [ 1.128356584705090e-04, -2.427969275195180e-04,  8.604405680959591e-05,\n",
       "          1.557223347173730e-04,  1.000000000000000e+00,  1.726852196136140e-05],\n",
       "        [ 0.000000000000000e+00,  0.000000000000000e+00,  0.000000000000000e+00,\n",
       "          0.000000000000000e+00,  0.000000000000000e+00,  1.000000000000000e+00]],\n",
       "       dtype=torch.float64)"
      ]
     },
     "execution_count": 27,
     "metadata": {},
     "output_type": "execute_result"
    }
   ],
   "source": [
    "# Bmad formula Jacobian\n",
    "quad_tao = tao.matrix(0,1)\n",
    "mat_tao = torch.tensor(quad_tao['mat6'])\n",
    "mat_tao"
   ]
  },
  {
   "cell_type": "code",
   "execution_count": 28,
   "id": "4970ae15-e587-4b35-8b3c-c5eaab017c9d",
   "metadata": {},
   "outputs": [
    {
     "data": {
      "text/plain": [
       "True"
      ]
     },
     "execution_count": 28,
     "metadata": {},
     "output_type": "execute_result"
    }
   ],
   "source": [
    "# close to Tao result?\n",
    "torch.allclose(mat_py, mat_tao, atol=0, rtol=1.0e-14)"
   ]
  },
  {
   "cell_type": "markdown",
   "id": "f8d7bedf-6116-41d3-8eac-5a3000e2b7bb",
   "metadata": {
    "tags": []
   },
   "source": [
    "## Quadrupole tilt test (transverse rotation)"
   ]
  },
  {
   "cell_type": "code",
   "execution_count": 29,
   "id": "e7873687-1fee-4033-91b1-f3090a4d166d",
   "metadata": {},
   "outputs": [
    {
     "data": {
      "text/plain": [
       "Quadrupole(L=0.1, K1=10.0, NUM_STEPS=1, X_OFFSET=0.0, Y_OFFSET=0.0, TILT=0.3)"
      ]
     },
     "execution_count": 29,
     "metadata": {},
     "output_type": "execute_result"
    }
   ],
   "source": [
    "# Create quadrupole with tilt\n",
    "q_tilt = Quadrupole(L = 0.1,\n",
    "                    K1 = 10.0,\n",
    "                    TILT = 0.3)\n",
    "q_tilt"
   ]
  },
  {
   "cell_type": "code",
   "execution_count": 30,
   "id": "500e6c60-e125-49f3-8417-0bed6931112e",
   "metadata": {},
   "outputs": [
    {
     "data": {
      "text/plain": [
       "tensor([2.196239719302552e-03, 8.841834264853368e-04, -3.253441973269224e-03,\n",
       "        -4.100871741572859e-03, 1.999394664225331e-03, -2.000000000000000e-03],\n",
       "       dtype=torch.float64)"
      ]
     },
     "execution_count": 30,
     "metadata": {},
     "output_type": "execute_result"
    }
   ],
   "source": [
    "# Outgoing particle no tilt\n",
    "p_out = track_element(p_in, q)\n",
    "x_py = torch.hstack(p_out[:6])\n",
    "x_py"
   ]
  },
  {
   "cell_type": "code",
   "execution_count": 31,
   "id": "d2e966bb-05fa-46f8-9ad0-3d56a85c625a",
   "metadata": {},
   "outputs": [
    {
     "data": {
      "text/plain": [
       "tensor([2.300431812756860e-03, 2.982152956166943e-03, -3.286310353406088e-03,\n",
       "        -4.782331681936468e-03, 1.999046404985869e-03, -2.000000000000000e-03],\n",
       "       dtype=torch.float64)"
      ]
     },
     "execution_count": 31,
     "metadata": {},
     "output_type": "execute_result"
    }
   ],
   "source": [
    "# Outgoing particle tilt\n",
    "p_out = track_element(p_in, q_tilt)\n",
    "\n",
    "x_py = torch.hstack(p_out[:6])\n",
    "x_py"
   ]
  },
  {
   "cell_type": "code",
   "execution_count": 32,
   "id": "eef6f7ec-81ae-4109-96b6-179c6e2fdb0d",
   "metadata": {},
   "outputs": [],
   "source": [
    "# Bmad lattice to compare\n",
    "tao = Tao('-lat '+repo_path+'/tests/bmad_lattices/test_quad_tilt.bmad -noplot')\n",
    "tao.cmd('set particle_start x='+str(coords[0]))\n",
    "tao.cmd('set particle_start px='+str(coords[1]))\n",
    "tao.cmd('set particle_start y='+str(coords[2]))\n",
    "tao.cmd('set particle_start py='+str(coords[3]))\n",
    "tao.cmd('set particle_start z='+str(coords[4]))\n",
    "tao.cmd('set particle_start pz='+str(coords[5]))\n",
    "orbit_out = tao.orbit_at_s(ele=1)"
   ]
  },
  {
   "cell_type": "code",
   "execution_count": 33,
   "id": "91c33264-efb9-438f-9d4b-778fabe27616",
   "metadata": {},
   "outputs": [
    {
     "data": {
      "text/plain": [
       "tensor([2.300431812756860e-03, 2.982152956166940e-03, -3.286310353406090e-03,\n",
       "        -4.782331681936470e-03, 1.999046404985870e-03, -2.000000000000000e-03],\n",
       "       dtype=torch.float64)"
      ]
     },
     "execution_count": 33,
     "metadata": {},
     "output_type": "execute_result"
    }
   ],
   "source": [
    "# Bmad outgoing particle\n",
    "x_tao = torch.tensor([orbit_out['x'],\n",
    "                      orbit_out['px'],\n",
    "                      orbit_out['y'],\n",
    "                      orbit_out['py'],\n",
    "                      orbit_out['z'],\n",
    "                      orbit_out['pz']], dtype=torch.double)\n",
    "x_tao"
   ]
  },
  {
   "cell_type": "code",
   "execution_count": 34,
   "id": "7ee01084-9bf2-4f96-988a-72523ff39f66",
   "metadata": {},
   "outputs": [
    {
     "data": {
      "text/plain": [
       "True"
      ]
     },
     "execution_count": 34,
     "metadata": {},
     "output_type": "execute_result"
    }
   ],
   "source": [
    "# close to Tao result?\n",
    "torch.allclose(x_py, x_tao, atol=0, rtol=1.0e-14)"
   ]
  },
  {
   "cell_type": "code",
   "execution_count": 35,
   "id": "64da7782-1269-43c7-9dd0-908d4fa876dd",
   "metadata": {},
   "outputs": [
    {
     "data": {
      "text/plain": [
       "tensor([[ 9.590677079347456e-01,  9.882768970959287e-02, -2.828949002336301e-02,\n",
       "         -9.448576885006041e-04,  0.000000000000000e+00, -2.987178598581627e-04],\n",
       "        [-8.087044026377975e-01,  9.590677079347456e-01, -5.646897158716462e-01,\n",
       "         -2.828949002336301e-02,  0.000000000000000e+00,  5.996905851096495e-05],\n",
       "        [-2.828949002336301e-02, -9.448576885006041e-04,  1.041768973758858e+00,\n",
       "          1.015898790172867e-01,  0.000000000000000e+00,  2.923927872640420e-04],\n",
       "        [-5.646897158716461e-01, -2.828949002336301e-02,  8.421049354547430e-01,\n",
       "          1.041768973758858e+00,  0.000000000000000e+00,  1.781243721626206e-04],\n",
       "        [ 2.398790860688291e-05, -3.005205973357010e-04,  2.310403623486719e-04,\n",
       "          2.950173386467863e-04,  1.000000000000000e+00,  1.827533631132711e-05],\n",
       "        [ 0.000000000000000e+00,  0.000000000000000e+00,  0.000000000000000e+00,\n",
       "          0.000000000000000e+00,  0.000000000000000e+00,  1.000000000000000e+00]],\n",
       "       dtype=torch.float64)"
      ]
     },
     "execution_count": 35,
     "metadata": {},
     "output_type": "execute_result"
    }
   ],
   "source": [
    "# autodiff Jacobian matrix\n",
    "f_quadrupole_tilt = lambda x: track_element(Particle(*x, s=p_in.s, p0c=p_in.p0c, mc2=p_in.mc2), q_tilt)[:6]\n",
    "\n",
    "J = jacobian(f_quadrupole_tilt, diff_coords)\n",
    "mat_py = torch.vstack(J)\n",
    "mat_py"
   ]
  },
  {
   "cell_type": "code",
   "execution_count": 36,
   "id": "29fc348f-21b4-4651-a270-7aaa2f1ff131",
   "metadata": {},
   "outputs": [
    {
     "data": {
      "text/plain": [
       "tensor([[ 9.590677079347460e-01,  9.882768970959289e-02, -2.828949002336300e-02,\n",
       "         -9.448576885006040e-04,  0.000000000000000e+00, -2.987178598581630e-04],\n",
       "        [-8.087044026377980e-01,  9.590677079347460e-01, -5.646897158716460e-01,\n",
       "         -2.828949002336300e-02,  0.000000000000000e+00,  5.996905851096470e-05],\n",
       "        [-2.828949002336300e-02, -9.448576885006040e-04,  1.041768973758860e+00,\n",
       "          1.015898790172870e-01,  0.000000000000000e+00,  2.923927872640420e-04],\n",
       "        [-5.646897158716460e-01, -2.828949002336300e-02,  8.421049354547430e-01,\n",
       "          1.041768973758860e+00,  0.000000000000000e+00,  1.781243721626220e-04],\n",
       "        [ 2.398790860688290e-05, -3.005205973357010e-04,  2.310403623486720e-04,\n",
       "          2.950173386467860e-04,  1.000000000000000e+00,  1.827533631132710e-05],\n",
       "        [ 0.000000000000000e+00,  0.000000000000000e+00,  0.000000000000000e+00,\n",
       "          0.000000000000000e+00,  0.000000000000000e+00,  1.000000000000000e+00]],\n",
       "       dtype=torch.float64)"
      ]
     },
     "execution_count": 36,
     "metadata": {},
     "output_type": "execute_result"
    }
   ],
   "source": [
    "# Bmad formula Jacobian\n",
    "quad_tao = tao.matrix(0,1)\n",
    "mat_tao = torch.tensor(quad_tao['mat6'])\n",
    "mat_tao"
   ]
  },
  {
   "cell_type": "code",
   "execution_count": 37,
   "id": "e09c1177-fe47-4050-8142-9445db6c97e4",
   "metadata": {},
   "outputs": [
    {
     "data": {
      "text/plain": [
       "True"
      ]
     },
     "execution_count": 37,
     "metadata": {},
     "output_type": "execute_result"
    }
   ],
   "source": [
    "# close to Tao result?\n",
    "torch.allclose(mat_py, mat_tao, atol=0, rtol=1.0e-14)"
   ]
  },
  {
   "cell_type": "markdown",
   "id": "bb2c4002-6b17-4768-a52c-7653b2c7404b",
   "metadata": {},
   "source": [
    "# Crab_Cavity tests"
   ]
  },
  {
   "cell_type": "code",
   "execution_count": 38,
   "id": "3d9734e1-68f4-4d04-bfa4-69558d320996",
   "metadata": {},
   "outputs": [
    {
     "data": {
      "text/plain": [
       "CrabCavity(L=0.2, VOLTAGE=10000.0, PHI0=0.5, RF_FREQUENCY=1000000000.0, NUM_STEPS=1, X_OFFSET=0.0, Y_OFFSET=0.0, TILT=0.0)"
      ]
     },
     "execution_count": 38,
     "metadata": {},
     "output_type": "execute_result"
    }
   ],
   "source": [
    "# Create cavity\n",
    "from bmadx import CrabCavity\n",
    "\n",
    "cav = CrabCavity(L=0.2,\n",
    "                 VOLTAGE=1e4,\n",
    "                 PHI0=0.5,\n",
    "                 RF_FREQUENCY=1e9)\n",
    "cav"
   ]
  },
  {
   "cell_type": "markdown",
   "id": "fc5fa6e5-3613-4c64-977d-c8c8caf1b592",
   "metadata": {},
   "source": [
    "## Crab_cavity one particle test"
   ]
  },
  {
   "cell_type": "code",
   "execution_count": 39,
   "id": "8443c9f2-aa5d-45d2-9109-730bf8d985b3",
   "metadata": {},
   "outputs": [
    {
     "data": {
      "text/plain": [
       "tensor([2.600159503009856e-03, 2.989525785200116e-03, -3.200403013811110e-03,\n",
       "        -1.000000000000000e-03, 1.998933450470348e-03, -2.012044669173099e-03],\n",
       "       dtype=torch.float64)"
      ]
     },
     "execution_count": 39,
     "metadata": {},
     "output_type": "execute_result"
    }
   ],
   "source": [
    "# Outgoing particle\n",
    "p_out = track_element(p_in, cav)\n",
    "\n",
    "x_py = torch.hstack(p_out[:6])\n",
    "x_py"
   ]
  },
  {
   "cell_type": "code",
   "execution_count": 40,
   "id": "f6fb4e2c-c0a4-4bb7-9c57-a2c4b72d47c6",
   "metadata": {},
   "outputs": [],
   "source": [
    "# Bmad lattice to compare\n",
    "tao = Tao('-lat '+repo_path+'/tests/bmad_lattices/test_crab_cavity.bmad -noplot')\n",
    "tao.cmd('set particle_start x='+str(coords[0]))\n",
    "tao.cmd('set particle_start px='+str(coords[1]))\n",
    "tao.cmd('set particle_start y='+str(coords[2]))\n",
    "tao.cmd('set particle_start py='+str(coords[3]))\n",
    "tao.cmd('set particle_start z='+str(coords[4]))\n",
    "tao.cmd('set particle_start pz='+str(coords[5]))\n",
    "orbit_out = tao.orbit_at_s(ele=1)"
   ]
  },
  {
   "cell_type": "code",
   "execution_count": 41,
   "id": "ca5eb104-b9fa-4e7d-aef6-283d8dc5d902",
   "metadata": {},
   "outputs": [
    {
     "data": {
      "text/plain": [
       "tensor([2.600159485837890e-03, 2.989525613829410e-03, -3.200403013811020e-03,\n",
       "        -1.000000000000000e-03, 1.998933450521790e-03, -2.012044668826460e-03],\n",
       "       dtype=torch.float64)"
      ]
     },
     "execution_count": 41,
     "metadata": {},
     "output_type": "execute_result"
    }
   ],
   "source": [
    "# Bmad outgoing particle\n",
    "x_tao = torch.tensor([orbit_out['x'],\n",
    "                      orbit_out['px'],\n",
    "                      orbit_out['y'],\n",
    "                      orbit_out['py'],\n",
    "                      orbit_out['z'],\n",
    "                      orbit_out['pz']], dtype=torch.double)\n",
    "x_tao"
   ]
  },
  {
   "cell_type": "code",
   "execution_count": 42,
   "id": "166f4fff-bc17-4098-ba28-ed0ee121174e",
   "metadata": {},
   "outputs": [
    {
     "data": {
      "text/plain": [
       "True"
      ]
     },
     "execution_count": 42,
     "metadata": {},
     "output_type": "execute_result"
    }
   ],
   "source": [
    "# close to Tao result?\n",
    "torch.allclose(x_py, x_tao, atol=0, rtol=1.0e-7)"
   ]
  },
  {
   "cell_type": "code",
   "execution_count": 43,
   "id": "4a564798",
   "metadata": {},
   "outputs": [
    {
     "data": {
      "text/plain": [
       "tensor([ True, False,  True,  True,  True,  True])"
      ]
     },
     "execution_count": 43,
     "metadata": {},
     "output_type": "execute_result"
    }
   ],
   "source": [
    "# close to Tao result?\n",
    "torch.isclose(x_py, x_tao, atol=0, rtol=1.0e-8)"
   ]
  },
  {
   "cell_type": "markdown",
   "id": "6cba34c7-84d1-4174-a9cc-51ec5bca5379",
   "metadata": {},
   "source": [
    "## Crab_cavity Jacobian test"
   ]
  },
  {
   "cell_type": "code",
   "execution_count": 44,
   "id": "df914c77-c924-4c3f-8042-61d850cbfb6b",
   "metadata": {},
   "outputs": [
    {
     "data": {
      "text/plain": [
       "tensor([[ 1.000001571489388e+00,  2.004051338856653e-01,  0.000000000000000e+00,\n",
       "         -6.552534052264527e-07, -5.246100940167111e-04, -6.013813103820471e-04],\n",
       "        [ 0.000000000000000e+00,  1.000001576957398e+00,  0.000000000000000e+00,\n",
       "         -5.256524659788450e-07, -5.235440739575950e-03, -8.949162872176154e-08],\n",
       "        [-5.256651057680826e-07, -6.552540421507948e-07,  1.000000000000000e+00,\n",
       "          2.004032150230133e-01,  2.637597029868803e-09,  2.008080032283205e-04],\n",
       "        [ 0.000000000000000e+00,  0.000000000000000e+00,  0.000000000000000e+00,\n",
       "          1.000000000000000e+00, -0.000000000000000e+00,  0.000000000000000e+00],\n",
       "        [-9.289874897604998e-08, -6.013816504874850e-04, -0.000000000000000e+00,\n",
       "          2.008080022802770e-04,  1.000001569699991e+00,  3.483769060576968e-05],\n",
       "        [-5.235440749927688e-03, -5.246038241196926e-04, -0.000000000000000e+00,\n",
       "          2.643031443043208e-09,  1.058650459477272e-05,  1.000001579115604e+00]],\n",
       "       dtype=torch.float64)"
      ]
     },
     "execution_count": 44,
     "metadata": {},
     "output_type": "execute_result"
    }
   ],
   "source": [
    "# autodiff Jacobian matrix\n",
    "f_crab_cavity = lambda x: track_element(Particle(*x, s=p_in.s, p0c=p_in.p0c, mc2=p_in.mc2), cav)[:6]\n",
    "\n",
    "J = jacobian(f_crab_cavity, diff_coords)\n",
    "mat_py = torch.vstack(J)\n",
    "mat_py"
   ]
  },
  {
   "cell_type": "code",
   "execution_count": 45,
   "id": "0cb14d82-ae25-402d-acd5-c879c6ceae30",
   "metadata": {},
   "outputs": [
    {
     "data": {
      "text/plain": [
       "tensor([[ 1.000001571489250e+00,  2.004051338854580e-01,  0.000000000000000e+00,\n",
       "         -6.552533864741590e-07, -5.246100789744220e-04, -6.013812931745790e-04],\n",
       "        [ 0.000000000000000e+00,  1.000001576957350e+00,  0.000000000000000e+00,\n",
       "         -5.256524508556580e-07, -5.235440588950670e-03, -8.949162614705570e-08],\n",
       "        [-5.256650906433550e-07, -6.552540233985010e-07,  1.000000000000000e+00,\n",
       "          2.004032150229270e-01,  2.637614285255740e-09,  2.008080032280910e-04],\n",
       "        [ 0.000000000000000e+00,  0.000000000000000e+00,  0.000000000000000e+00,\n",
       "          1.000000000000000e+00,  0.000000000000000e+00,  0.000000000000000e+00],\n",
       "        [-9.289874576351840e-08, -6.013816332799530e-04,  0.000000000000000e+00,\n",
       "          2.008080022800390e-04,  1.000001569699860e+00,  3.483769050266000e-05],\n",
       "        [-5.235440599302410e-03, -5.246038090789391e-04,  0.000000000000000e+00,\n",
       "          2.643048788126590e-09,  1.058667780267670e-05,  1.000001579115560e+00]],\n",
       "       dtype=torch.float64)"
      ]
     },
     "execution_count": 45,
     "metadata": {},
     "output_type": "execute_result"
    }
   ],
   "source": [
    "# Bmad formula Jacobian\n",
    "cav_tao = tao.matrix(0,1)\n",
    "mat_tao = torch.tensor(cav_tao['mat6'])\n",
    "mat_tao"
   ]
  },
  {
   "cell_type": "code",
   "execution_count": 46,
   "id": "559f4dce-229e-4a33-8e42-819449e0d19f",
   "metadata": {
    "tags": []
   },
   "outputs": [
    {
     "data": {
      "text/plain": [
       "True"
      ]
     },
     "execution_count": 46,
     "metadata": {},
     "output_type": "execute_result"
    }
   ],
   "source": [
    "# close to Tao result up to 13th decimal place\n",
    "torch.allclose(mat_py, mat_tao, atol=0, rtol=1.0e-4)"
   ]
  },
  {
   "cell_type": "code",
   "execution_count": 47,
   "id": "4e1d4df3-7b43-48a8-9135-deb761da0c04",
   "metadata": {
    "tags": []
   },
   "outputs": [
    {
     "data": {
      "text/plain": [
       "tensor([[ True,  True,  True,  True,  True,  True],\n",
       "        [ True,  True,  True,  True,  True,  True],\n",
       "        [ True,  True,  True,  True,  True,  True],\n",
       "        [ True,  True,  True,  True,  True,  True],\n",
       "        [ True,  True,  True,  True,  True,  True],\n",
       "        [ True,  True,  True,  True, False,  True]])"
      ]
     },
     "execution_count": 47,
     "metadata": {},
     "output_type": "execute_result"
    }
   ],
   "source": [
    "# but not up to 14th decimal place\n",
    "torch.isclose(mat_py, mat_tao, atol=0, rtol=1e-5)"
   ]
  },
  {
   "cell_type": "markdown",
   "id": "e0c8100c-e605-4d9e-b12e-f02375e03be9",
   "metadata": {
    "tags": []
   },
   "source": [
    "## Crab_cavity offset test"
   ]
  },
  {
   "cell_type": "code",
   "execution_count": 48,
   "id": "610c4ccc-88a0-4f7c-bdb9-2c6dec6a6458",
   "metadata": {},
   "outputs": [
    {
     "data": {
      "text/plain": [
       "CrabCavity(L=0.2, VOLTAGE=10000.0, PHI0=0.5, RF_FREQUENCY=1000000000.0, NUM_STEPS=1, X_OFFSET=0.001, Y_OFFSET=-0.002, TILT=0.0)"
      ]
     },
     "execution_count": 48,
     "metadata": {},
     "output_type": "execute_result"
    }
   ],
   "source": [
    "# Cavity with offsets\n",
    "cav_off = CrabCavity(L=0.2,\n",
    "                     VOLTAGE=1e4,\n",
    "                     PHI0=0.5,\n",
    "                     RF_FREQUENCY=1e9,\n",
    "                     X_OFFSET=1e-3,\n",
    "                     Y_OFFSET=-2e-3)\n",
    "cav_off"
   ]
  },
  {
   "cell_type": "code",
   "execution_count": 49,
   "id": "a7a31988-a34e-4115-ae37-f241019894d7",
   "metadata": {},
   "outputs": [
    {
     "data": {
      "text/plain": [
       "tensor([2.600159503009856e-03, 2.989525785200116e-03, -3.200403013811110e-03,\n",
       "        -1.000000000000000e-03, 1.998933450470348e-03, -2.012044669173099e-03],\n",
       "       dtype=torch.float64)"
      ]
     },
     "execution_count": 49,
     "metadata": {},
     "output_type": "execute_result"
    }
   ],
   "source": [
    "# Outgoing particle no offset\n",
    "p_out = track_element(p_in, cav)\n",
    "\n",
    "x_py = torch.hstack(p_out[:6])\n",
    "x_py"
   ]
  },
  {
   "cell_type": "code",
   "execution_count": 50,
   "id": "259c7c46-f77b-42bc-b4c3-84cba1a515ca",
   "metadata": {},
   "outputs": [
    {
     "data": {
      "text/plain": [
       "tensor([2.600157931528713e-03, 2.989525785200116e-03, -3.200402488148762e-03,\n",
       "        -1.000000000000000e-03, 1.998933543368366e-03, -2.006809228425473e-03],\n",
       "       dtype=torch.float64)"
      ]
     },
     "execution_count": 50,
     "metadata": {},
     "output_type": "execute_result"
    }
   ],
   "source": [
    "# Outgoing particle offset\n",
    "p_out = track_element(p_in, cav_off)\n",
    "\n",
    "x_py = torch.hstack(p_out[:6])\n",
    "x_py"
   ]
  },
  {
   "cell_type": "code",
   "execution_count": 51,
   "id": "1e75081a-5ee6-4769-ab3a-925da2812147",
   "metadata": {},
   "outputs": [],
   "source": [
    "# Bmad lattice to compare\n",
    "tao = Tao('-lat '+repo_path+'/tests/bmad_lattices/test_crab_cavity_offset.bmad -noplot')\n",
    "tao.cmd('set particle_start x='+str(coords[0]))\n",
    "tao.cmd('set particle_start px='+str(coords[1]))\n",
    "tao.cmd('set particle_start y='+str(coords[2]))\n",
    "tao.cmd('set particle_start py='+str(coords[3]))\n",
    "tao.cmd('set particle_start z='+str(coords[4]))\n",
    "tao.cmd('set particle_start pz='+str(coords[5]))\n",
    "orbit_out = tao.orbit_at_s(ele=1)"
   ]
  },
  {
   "cell_type": "code",
   "execution_count": 52,
   "id": "3ed4736e-e777-40c4-9e71-1d8e5cd77c62",
   "metadata": {},
   "outputs": [
    {
     "data": {
      "text/plain": [
       "tensor([2.600157914356880e-03, 2.989525613829410e-03, -3.200402488148690e-03,\n",
       "        -1.000000000000000e-03, 1.998933543419810e-03, -2.006809228229520e-03],\n",
       "       dtype=torch.float64)"
      ]
     },
     "execution_count": 52,
     "metadata": {},
     "output_type": "execute_result"
    }
   ],
   "source": [
    "# Bmad outgoing particle\n",
    "x_tao = torch.tensor([orbit_out['x'],\n",
    "                      orbit_out['px'],\n",
    "                      orbit_out['y'],\n",
    "                      orbit_out['py'],\n",
    "                      orbit_out['z'],\n",
    "                      orbit_out['pz']], dtype=torch.double)\n",
    "x_tao"
   ]
  },
  {
   "cell_type": "code",
   "execution_count": 53,
   "id": "cb11edd9-764f-48d1-9ac2-00faddd5e33f",
   "metadata": {
    "tags": []
   },
   "outputs": [
    {
     "data": {
      "text/plain": [
       "True"
      ]
     },
     "execution_count": 53,
     "metadata": {},
     "output_type": "execute_result"
    }
   ],
   "source": [
    "# close to Tao result?\n",
    "torch.allclose(x_py, x_tao, atol=0, rtol=1.0e-7)"
   ]
  },
  {
   "cell_type": "code",
   "execution_count": 54,
   "id": "3ca19df9",
   "metadata": {},
   "outputs": [
    {
     "data": {
      "text/plain": [
       "tensor([ True, False,  True,  True,  True,  True])"
      ]
     },
     "execution_count": 54,
     "metadata": {},
     "output_type": "execute_result"
    }
   ],
   "source": [
    "# close to Tao result?\n",
    "torch.isclose(x_py, x_tao, atol=0, rtol=1.0e-8)"
   ]
  },
  {
   "cell_type": "code",
   "execution_count": 55,
   "id": "b813bc9c-50bc-4bd7-b146-22c5f547a2e7",
   "metadata": {},
   "outputs": [
    {
     "data": {
      "text/plain": [
       "tensor([[ 1.000001571472898e+00,  2.004046082062692e-01,  0.000000000000000e+00,\n",
       "         -6.552482567216043e-07, -5.246059606096404e-04, -6.013781607107568e-04],\n",
       "        [ 0.000000000000000e+00,  1.000001576957398e+00,  0.000000000000000e+00,\n",
       "         -5.256524659788450e-07, -5.235440739575950e-03, -8.949162872176154e-08],\n",
       "        [-5.256595900031537e-07, -6.552486167910892e-07,  1.000000000000000e+00,\n",
       "          2.004026893590357e-01,  2.175539466651803e-09,  2.008069496751906e-04],\n",
       "        [ 0.000000000000000e+00,  0.000000000000000e+00,  0.000000000000000e+00,\n",
       "          1.000000000000000e+00, -0.000000000000000e+00,  0.000000000000000e+00],\n",
       "        [-9.289728709737649e-08, -6.013785012326269e-04, -0.000000000000000e+00,\n",
       "          2.008069488994388e-04,  1.000001570461304e+00,  3.483741139091059e-05],\n",
       "        [-5.235440745428065e-03, -5.246024376227188e-04, -0.000000000000000e+00,\n",
       "          2.181016073880466e-09,  5.984882352954397e-06,  1.000001578177490e+00]],\n",
       "       dtype=torch.float64)"
      ]
     },
     "execution_count": 55,
     "metadata": {},
     "output_type": "execute_result"
    }
   ],
   "source": [
    "# autodiff Jacobian matrix\n",
    "f_crab_cavity_off = lambda x: track_element(Particle(*x, s=p_in.s, p0c=p_in.p0c, mc2=p_in.mc2), cav_off)[:6]\n",
    "\n",
    "J = jacobian(f_crab_cavity_off, diff_coords)\n",
    "mat_py = torch.vstack(J)\n",
    "mat_py"
   ]
  },
  {
   "cell_type": "code",
   "execution_count": 56,
   "id": "c6aa12a5-629e-4fe6-ad91-6d198d472b1e",
   "metadata": {},
   "outputs": [
    {
     "data": {
      "text/plain": [
       "tensor([[ 1.000001571472760e+00,  2.004046082060770e-01,  0.000000000000000e+00,\n",
       "         -6.552482379674740e-07, -5.246059455449890e-04, -6.013781435035600e-04],\n",
       "        [ 0.000000000000000e+00,  1.000001576957350e+00,  0.000000000000000e+00,\n",
       "         -5.256524508556580e-07, -5.235440588950670e-03, -8.949162614705570e-08],\n",
       "        [-5.256595748787440e-07, -6.552485980369581e-07,  1.000000000000000e+00,\n",
       "          2.004026893589650e-01,  2.175549162632720e-09,  2.008069496749920e-04],\n",
       "        [ 0.000000000000000e+00,  0.000000000000000e+00,  0.000000000000000e+00,\n",
       "          1.000000000000000e+00,  0.000000000000000e+00,  0.000000000000000e+00],\n",
       "        [-9.289728388493930e-08, -6.013784840253660e-04,  0.000000000000000e+00,\n",
       "          2.008069488992310e-04,  1.000001570461170e+00,  3.483741128781100e-05],\n",
       "        [-5.235440594802780e-03, -5.246024225592880e-04,  0.000000000000000e+00,\n",
       "          2.181025859838670e-09,  5.984980272803050e-06,  1.000001578177450e+00]],\n",
       "       dtype=torch.float64)"
      ]
     },
     "execution_count": 56,
     "metadata": {},
     "output_type": "execute_result"
    }
   ],
   "source": [
    "# Bmad formula Jacobian\n",
    "cav_tao = tao.matrix(0,1)\n",
    "mat_tao = torch.tensor(cav_tao['mat6'])\n",
    "mat_tao"
   ]
  },
  {
   "cell_type": "code",
   "execution_count": 57,
   "id": "5c7b4b7b-45d0-434e-8ea5-3f135b18454d",
   "metadata": {},
   "outputs": [
    {
     "data": {
      "text/plain": [
       "True"
      ]
     },
     "execution_count": 57,
     "metadata": {},
     "output_type": "execute_result"
    }
   ],
   "source": [
    "# close to Tao result up to 13th decimal place\n",
    "torch.allclose(mat_py, mat_tao, atol=0, rtol=1.0e-4)"
   ]
  },
  {
   "cell_type": "code",
   "execution_count": 58,
   "id": "e14e4ca6",
   "metadata": {},
   "outputs": [
    {
     "data": {
      "text/plain": [
       "tensor([[ True,  True,  True,  True,  True,  True],\n",
       "        [ True,  True,  True,  True,  True,  True],\n",
       "        [ True,  True,  True,  True,  True,  True],\n",
       "        [ True,  True,  True,  True,  True,  True],\n",
       "        [ True,  True,  True,  True,  True,  True],\n",
       "        [ True,  True,  True,  True, False,  True]])"
      ]
     },
     "execution_count": 58,
     "metadata": {},
     "output_type": "execute_result"
    }
   ],
   "source": [
    "# but not up to 14th decimal place\n",
    "torch.isclose(mat_py, mat_tao, atol=0, rtol=1e-5)"
   ]
  },
  {
   "cell_type": "markdown",
   "id": "21dc9574-1086-4549-af96-1f1972fbeced",
   "metadata": {},
   "source": [
    "## Crab_cavity tilt test"
   ]
  },
  {
   "cell_type": "code",
   "execution_count": 59,
   "id": "d015a01e-cfba-49df-b581-c6795bc8106a",
   "metadata": {},
   "outputs": [
    {
     "data": {
      "text/plain": [
       "CrabCavity(L=0.2, VOLTAGE=10000.0, PHI0=0.5, RF_FREQUENCY=1000000000.0, NUM_STEPS=1, X_OFFSET=0.0, Y_OFFSET=0.0, TILT=0.3)"
      ]
     },
     "execution_count": 59,
     "metadata": {},
     "output_type": "execute_result"
    }
   ],
   "source": [
    "# Cavity with tilts\n",
    "cav_tilt = CrabCavity(L=0.2,\n",
    "                      VOLTAGE=1e4,\n",
    "                      PHI0=0.5,\n",
    "                      RF_FREQUENCY=1e9,\n",
    "                      TILT=0.3)\n",
    "cav_tilt"
   ]
  },
  {
   "cell_type": "code",
   "execution_count": 60,
   "id": "943a2c42-010d-49fb-9363-1085155c89fc",
   "metadata": {},
   "outputs": [
    {
     "data": {
      "text/plain": [
       "tensor([2.600159503009856e-03, 2.989525785200116e-03, -3.200403013811110e-03,\n",
       "        -1.000000000000000e-03, 1.998933450470348e-03, -2.012044669173099e-03],\n",
       "       dtype=torch.float64)"
      ]
     },
     "execution_count": 60,
     "metadata": {},
     "output_type": "execute_result"
    }
   ],
   "source": [
    "# Outgoing particle no offset\n",
    "p_out = track_element(p_in, cav)\n",
    "\n",
    "x_py = torch.hstack(p_out[:6])\n",
    "x_py"
   ]
  },
  {
   "cell_type": "code",
   "execution_count": 61,
   "id": "e2e55acc-54e0-4509-9c57-968a723d1d9d",
   "metadata": {},
   "outputs": [
    {
     "data": {
      "text/plain": [
       "tensor([2.600204778962090e-03, 2.989993600406731e-03, -3.200712636808565e-03,\n",
       "        -1.003095342122277e-03, 1.998933093429908e-03, -2.006710147677921e-03],\n",
       "       dtype=torch.float64)"
      ]
     },
     "execution_count": 61,
     "metadata": {},
     "output_type": "execute_result"
    }
   ],
   "source": [
    "# Outgoing particle offset and tilt\n",
    "p_out = track_element(p_in, cav_tilt)\n",
    "\n",
    "x_py = torch.hstack(p_out[:6])\n",
    "x_py"
   ]
  },
  {
   "cell_type": "code",
   "execution_count": 62,
   "id": "10ac2a40-cf6d-43e2-93e8-f2681f710584",
   "metadata": {},
   "outputs": [],
   "source": [
    "# Bmad lattice to compare\n",
    "tao = Tao('-lat '+repo_path+'/tests/bmad_lattices/test_crab_cavity_tilt.bmad -noplot')\n",
    "tao.cmd('set particle_start x='+str(coords[0]))\n",
    "tao.cmd('set particle_start px='+str(coords[1]))\n",
    "tao.cmd('set particle_start y='+str(coords[2]))\n",
    "tao.cmd('set particle_start py='+str(coords[3]))\n",
    "tao.cmd('set particle_start z='+str(coords[4]))\n",
    "tao.cmd('set particle_start pz='+str(coords[5]))\n",
    "orbit_out = tao.orbit_at_s(ele=1)"
   ]
  },
  {
   "cell_type": "code",
   "execution_count": 63,
   "id": "96d459e4-9540-44d6-8034-2ce10af7f003",
   "metadata": {},
   "outputs": [
    {
     "data": {
      "text/plain": [
       "tensor([2.600204762557230e-03, 2.989993436690040e-03, -3.200712641883060e-03,\n",
       "        -1.003095392765780e-03, 1.998933093473960e-03, -2.006710147484760e-03],\n",
       "       dtype=torch.float64)"
      ]
     },
     "execution_count": 63,
     "metadata": {},
     "output_type": "execute_result"
    }
   ],
   "source": [
    "# Bmad outgoing particle\n",
    "x_tao = torch.tensor([orbit_out['x'],\n",
    "                      orbit_out['px'],\n",
    "                      orbit_out['y'],\n",
    "                      orbit_out['py'],\n",
    "                      orbit_out['z'],\n",
    "                      orbit_out['pz']], dtype=torch.double)\n",
    "x_tao"
   ]
  },
  {
   "cell_type": "code",
   "execution_count": 64,
   "id": "8dc5323a-30f4-44d1-b0ad-867244cdbb76",
   "metadata": {},
   "outputs": [
    {
     "data": {
      "text/plain": [
       "True"
      ]
     },
     "execution_count": 64,
     "metadata": {},
     "output_type": "execute_result"
    }
   ],
   "source": [
    "# close to Tao result?\n",
    "torch.allclose(x_py, x_tao, atol=0, rtol=1.0e-7)"
   ]
  },
  {
   "cell_type": "code",
   "execution_count": 65,
   "id": "d6248498",
   "metadata": {},
   "outputs": [
    {
     "data": {
      "text/plain": [
       "tensor([ True, False,  True, False,  True,  True])"
      ]
     },
     "execution_count": 65,
     "metadata": {},
     "output_type": "execute_result"
    }
   ],
   "source": [
    "# close to Tao result?\n",
    "torch.isclose(x_py, x_tao, atol=0, rtol=1.0e-8)"
   ]
  },
  {
   "cell_type": "code",
   "execution_count": 66,
   "id": "9d4a0dfc-2e7f-41cc-b148-85d9f948529f",
   "metadata": {},
   "outputs": [
    {
     "data": {
      "text/plain": [
       "tensor([[ 1.000001501520052e+00,  2.004045849247234e-01,  4.644745816295703e-07,\n",
       "         -6.073329524777793e-07, -5.011747580192464e-04, -6.014246074929699e-04],\n",
       "        [ 0.000000000000000e+00,  1.000001506524944e+00,  0.000000000000000e+00,\n",
       "         -5.021749813760579e-07, -5.001607575171653e-03, -8.549461838918180e-08],\n",
       "        [-5.037361184290212e-07, -6.073336060452572e-07,  9.999998441761583e-01,\n",
       "          2.004026493081451e-01, -1.550277786188271e-04,  2.011150437638263e-04],\n",
       "        [ 0.000000000000000e+00,  4.660227761466018e-07,  0.000000000000000e+00,\n",
       "          9.999998446590745e-01, -1.547178529322680e-03, -2.644658461431483e-08],\n",
       "        [-8.875266924563281e-08, -6.014249329362829e-04, -2.745441784728740e-08,\n",
       "          2.011149416027625e-04,  1.000001344699341e+00,  3.483830346577687e-05],\n",
       "        [-5.001607580681043e-03, -5.011714382641526e-04, -1.547178531026935e-03,\n",
       "         -1.550267411292252e-04,  5.897796624455826e-06,  1.000001352386358e+00]],\n",
       "       dtype=torch.float64)"
      ]
     },
     "execution_count": 66,
     "metadata": {},
     "output_type": "execute_result"
    }
   ],
   "source": [
    "# autodiff Jacobian matrix\n",
    "f_crab_cavity_tilt = lambda x: track_element(Particle(*x, s=p_in.s, p0c=p_in.p0c, mc2=p_in.mc2), cav_tilt)[:6]\n",
    "\n",
    "J = jacobian(f_crab_cavity_tilt, diff_coords)\n",
    "mat_py = torch.vstack(J)\n",
    "mat_py"
   ]
  },
  {
   "cell_type": "code",
   "execution_count": 67,
   "id": "33fbbecf-e11c-4f92-9145-f53b521b705d",
   "metadata": {},
   "outputs": [
    {
     "data": {
      "text/plain": [
       "tensor([[ 1.000001501519930e+00,  2.004045849245440e-01,  4.644745428827870e-07,\n",
       "         -6.073329536365750e-07, -5.011747436284050e-04, -6.014245910543570e-04],\n",
       "        [ 0.000000000000000e+00,  1.000001506524900e+00,  0.000000000000000e+00,\n",
       "         -5.021749668876470e-07, -5.001607431273830e-03, -8.549461592946949e-08],\n",
       "        [-5.037361294202289e-07, -6.073336071971140e-07,  9.999998441761550e-01,\n",
       "          2.004026493080920e-01, -1.550277741487870e-04,  2.011150488485470e-04],\n",
       "        [ 0.000000000000000e+00,  4.660227627684140e-07,  0.000000000000000e+00,\n",
       "          9.999998446590790e-01, -1.547178484809870e-03, -2.644658385343720e-08],\n",
       "        [-8.875266625062010e-08, -6.014249164976120e-04, -2.745441692082140e-08,\n",
       "          2.011149466874840e-04,  1.000001344699210e+00,  3.483830337748740e-05],\n",
       "        [-5.001607436783220e-03, -5.011714238744080e-04, -1.547178486514120e-03,\n",
       "         -1.550267366593520e-04,  5.897893119477580e-06,  1.000001352386320e+00]],\n",
       "       dtype=torch.float64)"
      ]
     },
     "execution_count": 67,
     "metadata": {},
     "output_type": "execute_result"
    }
   ],
   "source": [
    "cav_tao = tao.matrix(0,1)\n",
    "mat_tao = torch.tensor(cav_tao['mat6'])\n",
    "mat_tao"
   ]
  },
  {
   "cell_type": "code",
   "execution_count": 68,
   "id": "ee06a22b-e0b8-40be-b489-dccefb2e2868",
   "metadata": {},
   "outputs": [
    {
     "data": {
      "text/plain": [
       "tensor([[False, False, False, False, False, False],\n",
       "        [ True,  True,  True, False, False, False],\n",
       "        [False, False,  True, False, False, False],\n",
       "        [ True, False,  True,  True, False, False],\n",
       "        [False, False, False, False, False, False],\n",
       "        [False, False, False, False, False,  True]])"
      ]
     },
     "execution_count": 68,
     "metadata": {},
     "output_type": "execute_result"
    }
   ],
   "source": [
    "torch.isclose(mat_py, mat_tao, atol=0, rtol=1.0e-13)"
   ]
  },
  {
   "cell_type": "code",
   "execution_count": 69,
   "id": "9149c999-441d-4581-aade-d1eaf2ba4ecd",
   "metadata": {},
   "outputs": [
    {
     "data": {
      "text/plain": [
       "True"
      ]
     },
     "execution_count": 69,
     "metadata": {},
     "output_type": "execute_result"
    }
   ],
   "source": [
    "torch.allclose(mat_py, mat_tao, atol=0, rtol=1.0e-4)"
   ]
  },
  {
   "cell_type": "code",
   "execution_count": 70,
   "id": "02575328-07dc-4996-8d72-9e020a46f90b",
   "metadata": {},
   "outputs": [
    {
     "data": {
      "text/plain": [
       "tensor([[ True,  True,  True,  True,  True,  True],\n",
       "        [ True,  True,  True,  True,  True,  True],\n",
       "        [ True,  True,  True,  True,  True,  True],\n",
       "        [ True,  True,  True,  True,  True,  True],\n",
       "        [ True,  True,  True,  True,  True,  True],\n",
       "        [ True,  True,  True,  True, False,  True]])"
      ]
     },
     "execution_count": 70,
     "metadata": {},
     "output_type": "execute_result"
    }
   ],
   "source": [
    "torch.isclose(mat_py, mat_tao, atol=0, rtol=1.0e-5)"
   ]
  },
  {
   "cell_type": "code",
   "execution_count": 71,
   "id": "86c1faeb-8931-408a-acb5-fd0c970e59b2",
   "metadata": {},
   "outputs": [],
   "source": [
    "# Something is wrong with the Jacobian matrix of a tilted cavity. Currently debuging."
   ]
  },
  {
   "cell_type": "markdown",
   "id": "5b399e60-6f72-4331-90e8-5994a3978e72",
   "metadata": {},
   "source": [
    "# RF_Cavity tests"
   ]
  },
  {
   "cell_type": "code",
   "execution_count": 72,
   "id": "06940029-0be4-46a7-a7d3-94b8609d0e7f",
   "metadata": {},
   "outputs": [
    {
     "data": {
      "text/plain": [
       "RFCavity(L=0.2, VOLTAGE=10000.0, PHI0=0.5, RF_FREQUENCY=1000000000.0, NUM_STEPS=1, X_OFFSET=0.0, Y_OFFSET=0.0, TILT=0.0)"
      ]
     },
     "execution_count": 72,
     "metadata": {},
     "output_type": "execute_result"
    }
   ],
   "source": [
    "# Create cavity\n",
    "from bmadx import RFCavity\n",
    "\n",
    "cav = RFCavity(L=0.2,\n",
    "               VOLTAGE=1e4,\n",
    "               PHI0=0.5,\n",
    "               RF_FREQUENCY=1e9)\n",
    "cav"
   ]
  },
  {
   "cell_type": "markdown",
   "id": "fb257879-e134-4c7e-9b5e-d12c0263a001",
   "metadata": {},
   "source": [
    "## RF_Cavity one particle test"
   ]
  },
  {
   "cell_type": "code",
   "execution_count": 73,
   "id": "23b2e30b-66c5-43ba-a94d-f0095ee85c4d",
   "metadata": {},
   "outputs": [
    {
     "data": {
      "text/plain": [
       "tensor([2.601208578941774e-03, 3.000000000000000e-03, -3.200402859647258e-03,\n",
       "        -1.000000000000000e-03, 1.998930328796947e-03, -2.010475072419949e-03],\n",
       "       dtype=torch.float64)"
      ]
     },
     "execution_count": 73,
     "metadata": {},
     "output_type": "execute_result"
    }
   ],
   "source": [
    "# Outgoing particle\n",
    "p_out = track_element(p_in, cav)\n",
    "\n",
    "x_py = torch.hstack(p_out[:6])\n",
    "x_py"
   ]
  },
  {
   "cell_type": "code",
   "execution_count": 74,
   "id": "105c88e1-8b76-4329-84f7-cf939fd121ce",
   "metadata": {},
   "outputs": [],
   "source": [
    "# Bmad lattice to compare\n",
    "tao = Tao('-lat '+repo_path+'/tests/bmad_lattices/test_rf_cavity.bmad -noplot')\n",
    "tao.cmd('set particle_start x='+str(coords[0]))\n",
    "tao.cmd('set particle_start px='+str(coords[1]))\n",
    "tao.cmd('set particle_start y='+str(coords[2]))\n",
    "tao.cmd('set particle_start py='+str(coords[3]))\n",
    "tao.cmd('set particle_start z='+str(coords[4]))\n",
    "tao.cmd('set particle_start pz='+str(coords[5]))\n",
    "orbit_out = tao.orbit_at_s(ele=1)"
   ]
  },
  {
   "cell_type": "code",
   "execution_count": 75,
   "id": "d652a61e-d877-4825-a6b0-53ee4955212b",
   "metadata": {},
   "outputs": [
    {
     "data": {
      "text/plain": [
       "tensor([2.601208578941770e-03, 3.000000000000000e-03, -3.200402859647260e-03,\n",
       "        -1.000000000000000e-03, 1.998930328796950e-03, -2.010475072419950e-03],\n",
       "       dtype=torch.float64)"
      ]
     },
     "execution_count": 75,
     "metadata": {},
     "output_type": "execute_result"
    }
   ],
   "source": [
    "# Bmad outgoing particle\n",
    "x_tao = torch.tensor([orbit_out['x'],\n",
    "                      orbit_out['px'],\n",
    "                      orbit_out['y'],\n",
    "                      orbit_out['py'],\n",
    "                      orbit_out['z'],\n",
    "                      orbit_out['pz']], dtype=torch.double)\n",
    "x_tao"
   ]
  },
  {
   "cell_type": "code",
   "execution_count": 76,
   "id": "ec7f7c04-e085-4e38-95d4-a6af98f4c4f2",
   "metadata": {},
   "outputs": [
    {
     "data": {
      "text/plain": [
       "True"
      ]
     },
     "execution_count": 76,
     "metadata": {},
     "output_type": "execute_result"
    }
   ],
   "source": [
    "# close to Tao result?\n",
    "torch.allclose(x_py, x_tao, atol=0, rtol=1.0e-14)"
   ]
  },
  {
   "cell_type": "markdown",
   "id": "18bce176-6de2-4d38-9c36-8944e7fb7635",
   "metadata": {},
   "source": [
    "## RF_Cavity Jacobian test"
   ]
  },
  {
   "cell_type": "code",
   "execution_count": 77,
   "id": "5783b93b-af70-4a5f-b8b4-77498715014f",
   "metadata": {},
   "outputs": [
    {
     "data": {
      "text/plain": [
       "tensor([[ 1.000000000000000e+00,  2.004046705463930e-01,  0.000000000000000e+00,\n",
       "         -6.036330450442983e-07,  1.577102406617731e-06, -6.024226175949689e-04],\n",
       "        [ 0.000000000000000e+00,  1.000000000000000e+00,  0.000000000000000e+00,\n",
       "          0.000000000000000e+00,  0.000000000000000e+00,  0.000000000000000e+00],\n",
       "        [ 0.000000000000000e+00, -6.036330450442982e-07,  1.000000000000000e+00,\n",
       "          2.004030608582729e-01, -5.257008022059102e-07,  2.008075391983230e-04],\n",
       "        [ 0.000000000000000e+00,  0.000000000000000e+00,  0.000000000000000e+00,\n",
       "          1.000000000000000e+00,  0.000000000000000e+00,  0.000000000000000e+00],\n",
       "        [ 0.000000000000000e+00, -6.024226155237540e-04,  0.000000000000000e+00,\n",
       "          2.008075385079180e-04,  9.999999053429351e-01,  3.484386392945851e-05],\n",
       "        [ 0.000000000000000e+00,  1.577103892075475e-06,  0.000000000000000e+00,\n",
       "         -5.257012973584918e-07, -5.235869418127461e-03,  9.999999122191349e-01]],\n",
       "       dtype=torch.float64)"
      ]
     },
     "execution_count": 77,
     "metadata": {},
     "output_type": "execute_result"
    }
   ],
   "source": [
    "# autodiff Jacobian matrix\n",
    "f_rf_cavity = lambda x: track_element(Particle(*x, s=p_in.s, p0c=p_in.p0c, mc2=p_in.mc2), cav)[:6]\n",
    "\n",
    "J = jacobian(f_rf_cavity, diff_coords)\n",
    "mat_py = torch.vstack(J)\n",
    "mat_py"
   ]
  },
  {
   "cell_type": "code",
   "execution_count": 78,
   "id": "3f21b36b-000a-4705-9f84-a4642a576fa9",
   "metadata": {},
   "outputs": [
    {
     "data": {
      "text/plain": [
       "tensor([[ 1.000000000000000e+00,  2.004046705463930e-01,  0.000000000000000e+00,\n",
       "         -6.036330450442980e-07,  1.577102406617730e-06, -6.024226175949690e-04],\n",
       "        [ 0.000000000000000e+00,  1.000000000000000e+00,  0.000000000000000e+00,\n",
       "          0.000000000000000e+00,  0.000000000000000e+00,  0.000000000000000e+00],\n",
       "        [ 0.000000000000000e+00, -6.036330450442980e-07,  1.000000000000000e+00,\n",
       "          2.004030608582730e-01, -5.257008022059100e-07,  2.008075391983230e-04],\n",
       "        [ 0.000000000000000e+00,  0.000000000000000e+00,  0.000000000000000e+00,\n",
       "          1.000000000000000e+00,  0.000000000000000e+00,  0.000000000000000e+00],\n",
       "        [ 0.000000000000000e+00, -6.024226155237540e-04,  0.000000000000000e+00,\n",
       "          2.008075385079180e-04,  9.999999053429350e-01,  3.484386392945810e-05],\n",
       "        [ 0.000000000000000e+00,  1.577103892075480e-06,  0.000000000000000e+00,\n",
       "         -5.257012973584920e-07, -5.235869418127460e-03,  9.999999122191350e-01]],\n",
       "       dtype=torch.float64)"
      ]
     },
     "execution_count": 78,
     "metadata": {},
     "output_type": "execute_result"
    }
   ],
   "source": [
    "# Bmad formula Jacobian\n",
    "quad_tao = tao.matrix(0,1)\n",
    "mat_tao = torch.tensor(quad_tao['mat6'])\n",
    "mat_tao"
   ]
  },
  {
   "cell_type": "code",
   "execution_count": 79,
   "id": "19b14b9a-c60a-4d58-986c-3c16883a992b",
   "metadata": {
    "tags": []
   },
   "outputs": [
    {
     "data": {
      "text/plain": [
       "True"
      ]
     },
     "execution_count": 79,
     "metadata": {},
     "output_type": "execute_result"
    }
   ],
   "source": [
    "# close to Tao result?\n",
    "torch.allclose(mat_py, mat_tao, atol=0, rtol=1.0e-13)"
   ]
  },
  {
   "cell_type": "markdown",
   "id": "10777ade-5261-4f31-99ce-a636bc74dd43",
   "metadata": {},
   "source": [
    "## RF_Cavity offset test"
   ]
  },
  {
   "cell_type": "code",
   "execution_count": 80,
   "id": "9e2dab1c-7875-4bd8-be45-f0f8b6315a07",
   "metadata": {},
   "outputs": [
    {
     "data": {
      "text/plain": [
       "RFCavity(L=0.2, VOLTAGE=10000.0, PHI0=0.5, RF_FREQUENCY=1000000000.0, NUM_STEPS=1, X_OFFSET=0.001, Y_OFFSET=-0.002, TILT=0.0)"
      ]
     },
     "execution_count": 80,
     "metadata": {},
     "output_type": "execute_result"
    }
   ],
   "source": [
    "# RF cav with offsets\n",
    "cav_off = RFCavity(L=0.2,\n",
    "                   VOLTAGE = 1e4,\n",
    "                   PHI0 = 0.5,\n",
    "                   RF_FREQUENCY = 1e9,\n",
    "                   X_OFFSET = 1e-3,\n",
    "                   Y_OFFSET = -2e-3)\n",
    "cav_off"
   ]
  },
  {
   "cell_type": "code",
   "execution_count": 81,
   "id": "ed650f68-9d00-4f47-b08a-d39ecb329d0b",
   "metadata": {},
   "outputs": [
    {
     "data": {
      "text/plain": [
       "tensor([2.601208578941774e-03, 3.000000000000000e-03, -3.200402859647258e-03,\n",
       "        -1.000000000000000e-03, 1.998930328796947e-03, -2.010475072419949e-03],\n",
       "       dtype=torch.float64)"
      ]
     },
     "execution_count": 81,
     "metadata": {},
     "output_type": "execute_result"
    }
   ],
   "source": [
    "# Outgoing particle no offset\n",
    "p_out = track_element(p_in, cav)\n",
    "\n",
    "x_py = torch.hstack(p_out[:6])\n",
    "x_py"
   ]
  },
  {
   "cell_type": "code",
   "execution_count": 82,
   "id": "34b1125f-4888-46d7-84d2-6338305e2878",
   "metadata": {},
   "outputs": [
    {
     "data": {
      "text/plain": [
       "tensor([2.601208578941774e-03, 3.000000000000000e-03, -3.200402859647258e-03,\n",
       "        -1.000000000000000e-03, 1.998930328796947e-03, -2.010475072419949e-03],\n",
       "       dtype=torch.float64)"
      ]
     },
     "execution_count": 82,
     "metadata": {},
     "output_type": "execute_result"
    }
   ],
   "source": [
    "# Outgoing particle offset\n",
    "p_out = track_element(p_in, cav_off)\n",
    "x_py = torch.hstack(p_out[:6])\n",
    "x_py"
   ]
  },
  {
   "cell_type": "code",
   "execution_count": 83,
   "id": "466bdc4e-5a29-48d5-86f8-f4da02532836",
   "metadata": {},
   "outputs": [],
   "source": [
    "# Bmad lattice to compare\n",
    "tao = Tao('-lat '+repo_path+'/tests/bmad_lattices/test_rf_cavity_offset.bmad -noplot')\n",
    "tao.cmd('set particle_start x='+str(coords[0]))\n",
    "tao.cmd('set particle_start px='+str(coords[1]))\n",
    "tao.cmd('set particle_start y='+str(coords[2]))\n",
    "tao.cmd('set particle_start py='+str(coords[3]))\n",
    "tao.cmd('set particle_start z='+str(coords[4]))\n",
    "tao.cmd('set particle_start pz='+str(coords[5]))\n",
    "orbit_out = tao.orbit_at_s(ele=1)"
   ]
  },
  {
   "cell_type": "code",
   "execution_count": 84,
   "id": "b2ca323e-02a4-478e-8987-58a9ed1381e8",
   "metadata": {},
   "outputs": [
    {
     "data": {
      "text/plain": [
       "tensor([2.601208578941770e-03, 3.000000000000000e-03, -3.200402859647260e-03,\n",
       "        -1.000000000000000e-03, 1.998930328796950e-03, -2.010475072419950e-03],\n",
       "       dtype=torch.float64)"
      ]
     },
     "execution_count": 84,
     "metadata": {},
     "output_type": "execute_result"
    }
   ],
   "source": [
    "# Bmad outgoing particle\n",
    "x_tao = torch.tensor([orbit_out['x'],\n",
    "                      orbit_out['px'],\n",
    "                      orbit_out['y'],\n",
    "                      orbit_out['py'],\n",
    "                      orbit_out['z'],\n",
    "                      orbit_out['pz']], dtype=torch.double)\n",
    "x_tao"
   ]
  },
  {
   "cell_type": "code",
   "execution_count": 85,
   "id": "59d1c818-3a07-4e96-a84e-87b415f1032b",
   "metadata": {},
   "outputs": [
    {
     "data": {
      "text/plain": [
       "True"
      ]
     },
     "execution_count": 85,
     "metadata": {},
     "output_type": "execute_result"
    }
   ],
   "source": [
    "# close to Tao result?\n",
    "torch.allclose(x_py, x_tao, atol=0, rtol=1.0e-14)"
   ]
  },
  {
   "cell_type": "markdown",
   "id": "a068c3c7-0b83-4948-ac3e-9e9c700de595",
   "metadata": {},
   "source": [
    "## RF_Cavity tilt test"
   ]
  },
  {
   "cell_type": "code",
   "execution_count": 86,
   "id": "4157f30f-8ae7-4bcb-92a1-bdb17e3c866b",
   "metadata": {},
   "outputs": [
    {
     "data": {
      "text/plain": [
       "RFCavity(L=0.2, VOLTAGE=10000.0, PHI0=0.5, RF_FREQUENCY=1000000000.0, NUM_STEPS=1, X_OFFSET=0.0, Y_OFFSET=0.0, TILT=0.3)"
      ]
     },
     "execution_count": 86,
     "metadata": {},
     "output_type": "execute_result"
    }
   ],
   "source": [
    "# RF cav with tilt\n",
    "cav_tilt = RFCavity(L=0.2,\n",
    "                    VOLTAGE=1e4,\n",
    "                    PHI0=0.5,\n",
    "                    RF_FREQUENCY=1e9,\n",
    "                    TILT=0.3)\n",
    "cav_tilt"
   ]
  },
  {
   "cell_type": "code",
   "execution_count": 87,
   "id": "facd0e1b-b013-45d6-9c55-afd453270a9e",
   "metadata": {},
   "outputs": [
    {
     "data": {
      "text/plain": [
       "tensor([2.601208578941774e-03, 3.000000000000000e-03, -3.200402859647258e-03,\n",
       "        -1.000000000000000e-03, 1.998930328796947e-03, -2.010475072419949e-03],\n",
       "       dtype=torch.float64)"
      ]
     },
     "execution_count": 87,
     "metadata": {},
     "output_type": "execute_result"
    }
   ],
   "source": [
    "# Outgoing particle no offset\n",
    "p_out = track_element(p_in, cav)\n",
    "x_py = torch.hstack(p_out[:6])\n",
    "x_py"
   ]
  },
  {
   "cell_type": "code",
   "execution_count": 88,
   "id": "6fb9cc00-a24a-4e98-bc69-fdacf4692c7c",
   "metadata": {},
   "outputs": [
    {
     "data": {
      "text/plain": [
       "tensor([2.601208578941774e-03, 3.000000000000000e-03, -3.200402859647258e-03,\n",
       "        -1.000000000000000e-03, 1.998930328796947e-03, -2.010475072419949e-03],\n",
       "       dtype=torch.float64)"
      ]
     },
     "execution_count": 88,
     "metadata": {},
     "output_type": "execute_result"
    }
   ],
   "source": [
    "# Outgoing particle tilt\n",
    "p_out = track_element(p_in, cav_tilt)\n",
    "x_py = torch.hstack(p_out[:6])\n",
    "x_py"
   ]
  },
  {
   "cell_type": "code",
   "execution_count": 89,
   "id": "3754c7f1-afc8-41b9-aa86-33d066faaade",
   "metadata": {},
   "outputs": [],
   "source": [
    "# Bmad lattice to compare\n",
    "tao = Tao('-lat '+repo_path+'/tests/bmad_lattices/test_rf_cavity_tilt.bmad -noplot')\n",
    "tao.cmd('set particle_start x='+str(coords[0]))\n",
    "tao.cmd('set particle_start px='+str(coords[1]))\n",
    "tao.cmd('set particle_start y='+str(coords[2]))\n",
    "tao.cmd('set particle_start py='+str(coords[3]))\n",
    "tao.cmd('set particle_start z='+str(coords[4]))\n",
    "tao.cmd('set particle_start pz='+str(coords[5]))\n",
    "orbit_out = tao.orbit_at_s(ele=1)"
   ]
  },
  {
   "cell_type": "code",
   "execution_count": 90,
   "id": "1a6f5274-e18d-427d-8991-16f8cf28324f",
   "metadata": {},
   "outputs": [
    {
     "data": {
      "text/plain": [
       "tensor([2.601208578941770e-03, 3.000000000000000e-03, -3.200402859647260e-03,\n",
       "        -1.000000000000000e-03, 1.998930328796950e-03, -2.010475072419950e-03],\n",
       "       dtype=torch.float64)"
      ]
     },
     "execution_count": 90,
     "metadata": {},
     "output_type": "execute_result"
    }
   ],
   "source": [
    "# Bmad outgoing particle\n",
    "x_tao = torch.tensor([orbit_out['x'],\n",
    "                      orbit_out['px'],\n",
    "                      orbit_out['y'],\n",
    "                      orbit_out['py'],\n",
    "                      orbit_out['z'],\n",
    "                      orbit_out['pz']], dtype=torch.double)\n",
    "x_tao"
   ]
  },
  {
   "cell_type": "code",
   "execution_count": 91,
   "id": "4543c707-b1d5-411a-af06-18df7f697210",
   "metadata": {
    "tags": []
   },
   "outputs": [
    {
     "data": {
      "text/plain": [
       "True"
      ]
     },
     "execution_count": 91,
     "metadata": {},
     "output_type": "execute_result"
    }
   ],
   "source": [
    "# close to Tao result?\n",
    "torch.allclose(x_py, x_tao, atol=0, rtol=1.0e-14)"
   ]
  },
  {
   "cell_type": "markdown",
   "id": "1374b8da-1cc7-4fc0-a5de-d1e3ac6fcb27",
   "metadata": {},
   "source": [
    "# SBend tests"
   ]
  },
  {
   "cell_type": "markdown",
   "id": "ee0ebd78-9600-4f28-9b01-4fbdae7f946d",
   "metadata": {},
   "source": [
    "## Body Only"
   ]
  },
  {
   "cell_type": "code",
   "execution_count": 92,
   "id": "a969a44b-c7f4-4b73-9271-ba335294aaff",
   "metadata": {},
   "outputs": [
    {
     "data": {
      "text/plain": [
       "SBend(L=0.1, P0C=tensor(4.000000000000000e+07, dtype=torch.float64), G=0.5, DG=0.0, E1=0.0, E2=0.0, FINT=0.0, HGAP=0.0, FINTX=0.0, HGAPX=0.0, FRINGE_AT='both_ends', FRINGE_TYPE='linear_edge', TILT=0.0)"
      ]
     },
     "execution_count": 92,
     "metadata": {},
     "output_type": "execute_result"
    }
   ],
   "source": [
    "# Create bend\n",
    "from bmadx import SBend, PI\n",
    "\n",
    "body = SBend(L = 0.1, \n",
    "             P0C = p_in.p0c, \n",
    "             G = 0.5\n",
    "            )\n",
    "body"
   ]
  },
  {
   "cell_type": "markdown",
   "id": "89d9d765-c50c-4160-8d0e-d5a58731247f",
   "metadata": {},
   "source": [
    "### One particle test"
   ]
  },
  {
   "cell_type": "code",
   "execution_count": 93,
   "id": "e86dde13-1555-4ec6-a10d-f2c7ff47a4a4",
   "metadata": {},
   "outputs": [
    {
     "data": {
      "text/plain": [
       "tensor([2.293265789408971e-03, 2.846062876104508e-03, -3.100308492708611e-03,\n",
       "        -1.000000000000000e-03, 1.892091543991378e-03, -2.000000000000002e-03],\n",
       "       dtype=torch.float64)"
      ]
     },
     "execution_count": 93,
     "metadata": {},
     "output_type": "execute_result"
    }
   ],
   "source": [
    "# Outgoing particle\n",
    "p_out = track_element(p_in, body)\n",
    "\n",
    "x_py = torch.hstack(p_out[:6])\n",
    "x_py"
   ]
  },
  {
   "cell_type": "code",
   "execution_count": 94,
   "id": "77b3d20a-9b2f-4c07-bb2d-966c8d317917",
   "metadata": {},
   "outputs": [],
   "source": [
    "# Bmad lattice to compare\n",
    "tao = Tao('-lat '+repo_path+'/tests/bmad_lattices/test_bend.bmad -noplot')\n",
    "tao.cmd('set particle_start x='+str(coords[0]))\n",
    "tao.cmd('set particle_start px='+str(coords[1]))\n",
    "tao.cmd('set particle_start y='+str(coords[2]))\n",
    "tao.cmd('set particle_start py='+str(coords[3]))\n",
    "tao.cmd('set particle_start z='+str(coords[4]))\n",
    "tao.cmd('set particle_start pz='+str(coords[5]))\n",
    "orbit_out = tao.orbit_at_s(ele=1)"
   ]
  },
  {
   "cell_type": "code",
   "execution_count": 95,
   "id": "67989d18-6b6c-4b42-a98c-f7f6e35bd5e0",
   "metadata": {},
   "outputs": [
    {
     "data": {
      "text/plain": [
       "tensor([2.293265789408970e-03, 2.846062876104720e-03, -3.100308492708610e-03,\n",
       "        -1.000000000000000e-03, 1.892091543991380e-03, -2.000000000000000e-03],\n",
       "       dtype=torch.float64)"
      ]
     },
     "execution_count": 95,
     "metadata": {},
     "output_type": "execute_result"
    }
   ],
   "source": [
    "# Bmad outgoing particle\n",
    "x_tao = torch.tensor([orbit_out['x'],\n",
    "                      orbit_out['px'],\n",
    "                      orbit_out['y'],\n",
    "                      orbit_out['py'],\n",
    "                      orbit_out['z'],\n",
    "                      orbit_out['pz']], dtype=torch.double)\n",
    "x_tao"
   ]
  },
  {
   "cell_type": "code",
   "execution_count": 96,
   "id": "4e239980-5d2a-4635-9dcd-64afb3ada601",
   "metadata": {},
   "outputs": [
    {
     "data": {
      "text/plain": [
       "True"
      ]
     },
     "execution_count": 96,
     "metadata": {},
     "output_type": "execute_result"
    }
   ],
   "source": [
    "# close to Tao result?\n",
    "torch.allclose(x_py, x_tao, atol=0, rtol=1.0e-13)"
   ]
  },
  {
   "cell_type": "markdown",
   "id": "00c8bf5d-e3d6-4fd3-8a1d-7dac24031f65",
   "metadata": {},
   "source": [
    "### Jacobian test"
   ]
  },
  {
   "cell_type": "code",
   "execution_count": 97,
   "id": "059d85bf-c9fc-4e79-b1b0-68269a31147f",
   "metadata": {},
   "outputs": [],
   "source": [
    "f_bend = lambda x: track_element(Particle(*x, s=p_in.s, p0c=p_in.p0c, mc2=p_in.mc2), body)[:6]\n",
    "J = jacobian(f_bend, diff_coords)"
   ]
  },
  {
   "cell_type": "code",
   "execution_count": 98,
   "id": "acd279d0-419e-46e0-89c4-70ebcff91a0f",
   "metadata": {},
   "outputs": [
    {
     "data": {
      "text/plain": [
       "tensor([[ 9.988927899621565e-01,  1.002673052535997e-01,  0.000000000000000e+00,\n",
       "          2.217963569799612e-06,  0.000000000000000e+00,  2.213527642660013e-03],\n",
       "        [-2.498958463533967e-02,  9.986000216569765e-01,  0.000000000000000e+00,\n",
       "          5.007957932966325e-05,  0.000000000000000e+00,  4.997942017100392e-02],\n",
       "        [-5.007955670508429e-05, -2.806485998782949e-06,  1.000000000000000e+00,\n",
       "          1.003085933786816e-01,  0.000000000000000e+00,  1.004687301118691e-04],\n",
       "        [ 0.000000000000000e+00,  0.000000000000000e+00,  0.000000000000000e+00,\n",
       "          1.000000000000000e+00,  0.000000000000000e+00,  0.000000000000000e+00],\n",
       "        [-4.997939759167412e-02, -2.800873026785381e-03, -0.000000000000000e+00,\n",
       "          1.004687301118691e-04,  1.000000000000000e+00, -2.428444372251648e-05],\n",
       "        [ 0.000000000000000e+00,  0.000000000000000e+00,  0.000000000000000e+00,\n",
       "          0.000000000000000e+00,  0.000000000000000e+00,  1.000000000000000e+00]],\n",
       "       dtype=torch.float64)"
      ]
     },
     "execution_count": 98,
     "metadata": {},
     "output_type": "execute_result"
    }
   ],
   "source": [
    "# Jacobian matrix\n",
    "mat_py = torch.vstack(J)\n",
    "mat_py"
   ]
  },
  {
   "cell_type": "code",
   "execution_count": 99,
   "id": "068ea8ab-a168-490a-a2ee-a579c3ba6837",
   "metadata": {},
   "outputs": [
    {
     "data": {
      "text/plain": [
       "tensor([[ 9.988927899621560e-01,  1.002673052536000e-01,  0.000000000000000e+00,\n",
       "          2.217963569799610e-06,  0.000000000000000e+00,  2.213527642660010e-03],\n",
       "        [-2.498958463533920e-02,  9.986000216569770e-01,  0.000000000000000e+00,\n",
       "          5.007957932966350e-05,  0.000000000000000e+00,  4.997942017100410e-02],\n",
       "        [-5.007955670508430e-05, -2.806485998782950e-06,  1.000000000000000e+00,\n",
       "          1.003085933786820e-01,  0.000000000000000e+00,  1.004687301118690e-04],\n",
       "        [ 0.000000000000000e+00,  0.000000000000000e+00,  0.000000000000000e+00,\n",
       "          1.000000000000000e+00,  0.000000000000000e+00,  0.000000000000000e+00],\n",
       "        [-4.997939759167410e-02, -2.800873026785380e-03,  0.000000000000000e+00,\n",
       "          1.004687301118690e-04,  1.000000000000000e+00, -2.428444372254420e-05],\n",
       "        [ 0.000000000000000e+00,  0.000000000000000e+00,  0.000000000000000e+00,\n",
       "          0.000000000000000e+00,  0.000000000000000e+00,  1.000000000000000e+00]],\n",
       "       dtype=torch.float64)"
      ]
     },
     "execution_count": 99,
     "metadata": {},
     "output_type": "execute_result"
    }
   ],
   "source": [
    "# Bmad Jacobian\n",
    "bend_tao = tao.matrix(0,1)\n",
    "mat_tao = torch.tensor(bend_tao['mat6'])\n",
    "mat_tao"
   ]
  },
  {
   "cell_type": "code",
   "execution_count": 100,
   "id": "3e056cae-818f-41b4-b74d-103510b362a3",
   "metadata": {},
   "outputs": [
    {
     "data": {
      "text/plain": [
       "True"
      ]
     },
     "execution_count": 100,
     "metadata": {},
     "output_type": "execute_result"
    }
   ],
   "source": [
    "# close to Tao result?\n",
    "torch.allclose(mat_py, mat_tao, atol=0, rtol=1.0e-11)"
   ]
  },
  {
   "cell_type": "markdown",
   "id": "761ca02b",
   "metadata": {},
   "source": [
    "### One particle test with tilt (y-axis orientation)"
   ]
  },
  {
   "cell_type": "code",
   "execution_count": 101,
   "id": "86502128",
   "metadata": {},
   "outputs": [],
   "source": [
    "body_y = SBend(\n",
    "    L = 0.1, \n",
    "    P0C = p_in.p0c, \n",
    "    G = 0.5,\n",
    "    TILT=PI/2\n",
    "    )"
   ]
  },
  {
   "cell_type": "code",
   "execution_count": 102,
   "id": "6a48af39",
   "metadata": {},
   "outputs": [
    {
     "data": {
      "text/plain": [
       "tensor([2.300144230639417e-03, 3.000000000000000e-03, -3.101269254186561e-03,\n",
       "        -1.023990242298472e-03, 2.151986541139364e-03, -2.000000000000002e-03],\n",
       "       dtype=torch.float64)"
      ]
     },
     "execution_count": 102,
     "metadata": {},
     "output_type": "execute_result"
    }
   ],
   "source": [
    "# Outgoing particle\n",
    "p_out = track_element(p_in, body_y)\n",
    "\n",
    "x_py = torch.hstack(p_out[:6])\n",
    "x_py"
   ]
  },
  {
   "cell_type": "code",
   "execution_count": 103,
   "id": "3069be9a",
   "metadata": {},
   "outputs": [],
   "source": [
    "# Bmad lattice to compare\n",
    "tao = Tao('-lat '+repo_path+'/tests/bmad_lattices/test_bend_y.bmad -noplot')\n",
    "tao.cmd('set particle_start x='+str(coords[0]))\n",
    "tao.cmd('set particle_start px='+str(coords[1]))\n",
    "tao.cmd('set particle_start y='+str(coords[2]))\n",
    "tao.cmd('set particle_start py='+str(coords[3]))\n",
    "tao.cmd('set particle_start z='+str(coords[4]))\n",
    "tao.cmd('set particle_start pz='+str(coords[5]))\n",
    "orbit_out = tao.orbit_at_s(ele=1)"
   ]
  },
  {
   "cell_type": "code",
   "execution_count": 104,
   "id": "571010c3",
   "metadata": {},
   "outputs": [
    {
     "data": {
      "text/plain": [
       "tensor([2.300144230639420e-03, 3.000000000000000e-03, -3.101269254186560e-03,\n",
       "        -1.023990242298450e-03, 2.151986541139360e-03, -2.000000000000000e-03],\n",
       "       dtype=torch.float64)"
      ]
     },
     "execution_count": 104,
     "metadata": {},
     "output_type": "execute_result"
    }
   ],
   "source": [
    "# Bmad outgoing particle\n",
    "x_tao = torch.tensor([orbit_out['x'],\n",
    "                      orbit_out['px'],\n",
    "                      orbit_out['y'],\n",
    "                      orbit_out['py'],\n",
    "                      orbit_out['z'],\n",
    "                      orbit_out['pz']], dtype=torch.double)\n",
    "x_tao"
   ]
  },
  {
   "cell_type": "code",
   "execution_count": 105,
   "id": "78013c51",
   "metadata": {},
   "outputs": [
    {
     "data": {
      "text/plain": [
       "True"
      ]
     },
     "execution_count": 105,
     "metadata": {},
     "output_type": "execute_result"
    }
   ],
   "source": [
    "# close to Tao result?\n",
    "torch.allclose(x_py, x_tao, atol=0, rtol=1.0e-13)"
   ]
  },
  {
   "cell_type": "code",
   "execution_count": null,
   "id": "0e0e0277",
   "metadata": {},
   "outputs": [],
   "source": []
  },
  {
   "cell_type": "markdown",
   "id": "b17a9fd9",
   "metadata": {},
   "source": [
    "### One particle test (linear fringe)"
   ]
  },
  {
   "cell_type": "code",
   "execution_count": 106,
   "id": "ff57a618",
   "metadata": {},
   "outputs": [],
   "source": [
    "bend_linear_fringe = SBend(L = 0.1,\n",
    "             P0C = p_in.p0c,\n",
    "             G = 0.5,\n",
    "             DG = 0.0,\n",
    "             E1 = 0.2,\n",
    "             E2 = 0.3,\n",
    "             FINT = 0.05,\n",
    "             HGAP = 0.03,\n",
    "             FINTX = 0.08,\n",
    "             HGAPX = 0.01, \n",
    "             FRINGE_AT = \"both_ends\",\n",
    "             FRINGE_TYPE = \"linear_edge\"\n",
    "            )"
   ]
  },
  {
   "cell_type": "code",
   "execution_count": 107,
   "id": "ce999c36",
   "metadata": {},
   "outputs": [
    {
     "data": {
      "text/plain": [
       "tensor([2.313591611322499e-03, 3.406339794786446e-03, -3.070057696037041e-03,\n",
       "        -2.251095234844629e-04, 1.891547445147787e-03, -2.000000000000002e-03],\n",
       "       dtype=torch.float64)"
      ]
     },
     "execution_count": 107,
     "metadata": {},
     "output_type": "execute_result"
    }
   ],
   "source": [
    "# Outgoing particle\n",
    "p_out = track_element(p_in, bend_linear_fringe)\n",
    "\n",
    "x_py = torch.hstack(p_out[:6])\n",
    "x_py"
   ]
  },
  {
   "cell_type": "code",
   "execution_count": 108,
   "id": "c94d85c3",
   "metadata": {},
   "outputs": [],
   "source": [
    "# Bmad lattice to compare\n",
    "tao = Tao('-lat '+repo_path+'/tests/bmad_lattices/test_bend_linear_both_ends.bmad -noplot')\n",
    "tao.cmd('set particle_start x='+str(coords[0]))\n",
    "tao.cmd('set particle_start px='+str(coords[1]))\n",
    "tao.cmd('set particle_start y='+str(coords[2]))\n",
    "tao.cmd('set particle_start py='+str(coords[3]))\n",
    "tao.cmd('set particle_start z='+str(coords[4]))\n",
    "tao.cmd('set particle_start pz='+str(coords[5]))\n",
    "orbit_out = tao.orbit_at_s(ele=1)"
   ]
  },
  {
   "cell_type": "code",
   "execution_count": 109,
   "id": "5660d919",
   "metadata": {},
   "outputs": [
    {
     "data": {
      "text/plain": [
       "tensor([2.313591611322500e-03, 3.406339794786520e-03, -3.070057696037040e-03,\n",
       "        -2.251095234844630e-04, 1.891547445147790e-03, -2.000000000000000e-03],\n",
       "       dtype=torch.float64)"
      ]
     },
     "execution_count": 109,
     "metadata": {},
     "output_type": "execute_result"
    }
   ],
   "source": [
    "# Bmad outgoing particle\n",
    "x_tao = torch.tensor([orbit_out['x'],\n",
    "                      orbit_out['px'],\n",
    "                      orbit_out['y'],\n",
    "                      orbit_out['py'],\n",
    "                      orbit_out['z'],\n",
    "                      orbit_out['pz']], dtype=torch.double)\n",
    "x_tao"
   ]
  },
  {
   "cell_type": "code",
   "execution_count": 110,
   "id": "2c9915c8",
   "metadata": {},
   "outputs": [
    {
     "data": {
      "text/plain": [
       "True"
      ]
     },
     "execution_count": 110,
     "metadata": {},
     "output_type": "execute_result"
    }
   ],
   "source": [
    "# close to Tao result?\n",
    "torch.allclose(x_py, x_tao, atol=0, rtol=1.0e-13)"
   ]
  },
  {
   "cell_type": "markdown",
   "id": "b2b06aef-214b-414d-8aae-2d1c8c8e0db0",
   "metadata": {},
   "source": [
    "## Soft fringe entrance"
   ]
  },
  {
   "cell_type": "code",
   "execution_count": 111,
   "id": "bdc94647-524f-444c-8614-8e05209e4745",
   "metadata": {},
   "outputs": [
    {
     "data": {
      "text/plain": [
       "SBend(L=0.1, P0C=tensor(4.000000000000000e+07, dtype=torch.float64), G=0.5, DG=0.0, E1=0.02, E2=0.0, FINT=0.5, HGAP=0.03, FINTX=0, HGAPX=0, FRINGE_AT='entrance_end', FRINGE_TYPE='soft_edge_only', TILT=0.0)"
      ]
     },
     "execution_count": 111,
     "metadata": {},
     "output_type": "execute_result"
    }
   ],
   "source": [
    "# Create bend\n",
    "soft = SBend(L = 0.1,\n",
    "             P0C = p_in.p0c,\n",
    "             G = 0.5,\n",
    "             DG = 0.0,\n",
    "             E1 = 0.02,\n",
    "             E2 = 0.0,\n",
    "             FINT = 0.5,\n",
    "             HGAP = 0.03,\n",
    "             FINTX = 0,\n",
    "             HGAPX = 0,\n",
    "             FRINGE_AT = \"entrance_end\",\n",
    "             FRINGE_TYPE = \"soft_edge_only\"\n",
    "            )\n",
    "soft"
   ]
  },
  {
   "cell_type": "markdown",
   "id": "a7d105d9-76de-46b7-8a7a-3bc22e20b799",
   "metadata": {},
   "source": [
    "### One particle test"
   ]
  },
  {
   "cell_type": "code",
   "execution_count": 112,
   "id": "e3c1a0d9-e86e-4eb0-9b3b-4ac4568682d4",
   "metadata": {},
   "outputs": [
    {
     "data": {
      "text/plain": [
       "tensor([2.291914531215035e-03, 2.846095539157815e-03, -3.102567377060580e-03,\n",
       "        -1.022520040080160e-03, 1.894223854303920e-03, -2.000000000000002e-03],\n",
       "       dtype=torch.float64)"
      ]
     },
     "execution_count": 112,
     "metadata": {},
     "output_type": "execute_result"
    }
   ],
   "source": [
    "# Outgoing particle\n",
    "p_out = track_element(p_in, soft)\n",
    "\n",
    "x_py = torch.hstack(p_out[:6])\n",
    "x_py"
   ]
  },
  {
   "cell_type": "code",
   "execution_count": 113,
   "id": "5e4b9d14-78d0-468a-953c-e9473436ebd7",
   "metadata": {},
   "outputs": [],
   "source": [
    "# Bmad lattice to compare\n",
    "tao = Tao('-lat '+repo_path+'/tests/bmad_lattices/test_bend_soft_ent.bmad -noplot')\n",
    "tao.cmd('set particle_start x='+str(coords[0]))\n",
    "tao.cmd('set particle_start px='+str(coords[1]))\n",
    "tao.cmd('set particle_start y='+str(coords[2]))\n",
    "tao.cmd('set particle_start py='+str(coords[3]))\n",
    "tao.cmd('set particle_start z='+str(coords[4]))\n",
    "tao.cmd('set particle_start pz='+str(coords[5]))\n",
    "orbit_out = tao.orbit_at_s(ele=1)"
   ]
  },
  {
   "cell_type": "code",
   "execution_count": 114,
   "id": "3c022199-246a-4b58-93c4-5efb68925e1f",
   "metadata": {},
   "outputs": [
    {
     "data": {
      "text/plain": [
       "tensor([2.291914531215030e-03, 2.846095539157940e-03, -3.102567377060580e-03,\n",
       "        -1.022520040080160e-03, 1.894223854303920e-03, -2.000000000000000e-03],\n",
       "       dtype=torch.float64)"
      ]
     },
     "execution_count": 114,
     "metadata": {},
     "output_type": "execute_result"
    }
   ],
   "source": [
    "# Bmad outgoing particle\n",
    "x_tao = torch.tensor([orbit_out['x'],\n",
    "                      orbit_out['px'],\n",
    "                      orbit_out['y'],\n",
    "                      orbit_out['py'],\n",
    "                      orbit_out['z'],\n",
    "                      orbit_out['pz']], dtype=torch.double)\n",
    "x_tao"
   ]
  },
  {
   "cell_type": "code",
   "execution_count": 115,
   "id": "59549454-e1ee-4fc5-a4dd-ed8af02ad6a4",
   "metadata": {},
   "outputs": [
    {
     "data": {
      "text/plain": [
       "True"
      ]
     },
     "execution_count": 115,
     "metadata": {},
     "output_type": "execute_result"
    }
   ],
   "source": [
    "# close to Tao result?\n",
    "torch.allclose(x_py, x_tao, atol=1e-12, rtol = 1e-14)"
   ]
  },
  {
   "cell_type": "markdown",
   "id": "4a2a69f2-7fa9-496f-af08-7ae1991e636b",
   "metadata": {},
   "source": [
    "### Jacobian test"
   ]
  },
  {
   "cell_type": "code",
   "execution_count": 116,
   "id": "bdd14027-4352-4218-9596-515960523c02",
   "metadata": {},
   "outputs": [],
   "source": [
    "f_bend = lambda x: track_element(Particle(*x, s=p_in.s, p0c=p_in.p0c, mc2=p_in.mc2), soft)[:6]\n",
    "J = jacobian(f_bend, diff_coords)"
   ]
  },
  {
   "cell_type": "code",
   "execution_count": 117,
   "id": "ed695fa7-6a1f-4007-bed9-817738897b5c",
   "metadata": {},
   "outputs": [
    {
     "data": {
      "text/plain": [
       "tensor([[ 9.988927916011799e-01,  1.002672398944702e-01,  1.698659358077027e-08,\n",
       "          2.267909082757021e-06,  0.000000000000000e+00,  2.890482410545297e-03],\n",
       "        [-2.498958463533991e-02,  9.986000216535417e-01,  3.835422098105090e-07,\n",
       "          5.120737463423251e-05,  0.000000000000000e+00,  4.996248682483319e-02],\n",
       "        [-5.120735150492490e-05, -2.869688057667190e-06,  1.000751308898336e+00,\n",
       "          1.003085325135935e-01,  0.000000000000000e+00,  1.049600030821984e-04],\n",
       "        [ 0.000000000000000e+00,  0.000000000000000e+00,  7.489979959919840e-03,\n",
       "          1.000000000000000e+00,  0.000000000000000e+00,  2.256517042100233e-05],\n",
       "        [-4.997939873912759e-02, -2.123164789675154e-03, -2.179571558510011e-05,\n",
       "          1.027312275893518e-04,  1.000000000000000e+00, -6.229124242425621e-05],\n",
       "        [ 0.000000000000000e+00,  0.000000000000000e+00,  0.000000000000000e+00,\n",
       "          0.000000000000000e+00,  0.000000000000000e+00,  1.000000000000000e+00]],\n",
       "       dtype=torch.float64)"
      ]
     },
     "execution_count": 117,
     "metadata": {},
     "output_type": "execute_result"
    }
   ],
   "source": [
    "# Jacobian matrix\n",
    "mat_py = torch.vstack(J)\n",
    "mat_py"
   ]
  },
  {
   "cell_type": "code",
   "execution_count": 118,
   "id": "20518e62-7d16-4c8e-a36a-3978fe7e8d9c",
   "metadata": {},
   "outputs": [
    {
     "data": {
      "text/plain": [
       "tensor([[ 9.988927916011801e-01,  1.002672398944700e-01,  1.698659358077030e-08,\n",
       "          2.267909082757020e-06,  0.000000000000000e+00,  2.890482410545300e-03],\n",
       "        [-2.498958463533910e-02,  9.986000216535420e-01,  3.835422098105100e-07,\n",
       "          5.120737463423270e-05,  0.000000000000000e+00,  4.996248682483330e-02],\n",
       "        [-5.120735150492490e-05, -2.869688057667190e-06,  1.000751308898340e+00,\n",
       "          1.003085325135940e-01,  0.000000000000000e+00,  1.049600030821980e-04],\n",
       "        [ 0.000000000000000e+00,  0.000000000000000e+00,  7.489979959919840e-03,\n",
       "          1.000000000000000e+00,  0.000000000000000e+00,  2.256517042100230e-05],\n",
       "        [-4.997939873912760e-02, -2.123164789675150e-03, -2.179571558510010e-05,\n",
       "          1.027312275893520e-04,  1.000000000000000e+00, -6.229124242425620e-05],\n",
       "        [ 0.000000000000000e+00,  0.000000000000000e+00,  0.000000000000000e+00,\n",
       "          0.000000000000000e+00,  0.000000000000000e+00,  1.000000000000000e+00]],\n",
       "       dtype=torch.float64)"
      ]
     },
     "execution_count": 118,
     "metadata": {},
     "output_type": "execute_result"
    }
   ],
   "source": [
    "# Bmad Jacobian\n",
    "bend_tao = tao.matrix(0,1)\n",
    "mat_tao = torch.tensor(bend_tao['mat6'])\n",
    "mat_tao"
   ]
  },
  {
   "cell_type": "code",
   "execution_count": 119,
   "id": "3eb15ee9-e199-433c-b484-164a97226e4b",
   "metadata": {},
   "outputs": [
    {
     "data": {
      "text/plain": [
       "True"
      ]
     },
     "execution_count": 119,
     "metadata": {},
     "output_type": "execute_result"
    }
   ],
   "source": [
    "# close to Tao result?\n",
    "torch.allclose(mat_py, mat_tao, atol=0, rtol=1.0e-13)"
   ]
  },
  {
   "cell_type": "markdown",
   "id": "f3e55f08-23c5-4891-ad38-b754e70a371e",
   "metadata": {},
   "source": [
    "## Soft fringe entrance and exit"
   ]
  },
  {
   "cell_type": "code",
   "execution_count": 120,
   "id": "f10872d5-f164-4eaa-9af2-71f214e3666e",
   "metadata": {},
   "outputs": [
    {
     "data": {
      "text/plain": [
       "SBend(L=0.1, P0C=tensor(4.000000000000000e+07, dtype=torch.float64), G=0.5, DG=0.0, E1=0.02, E2=0.03, FINT=0.5, HGAP=0.03, FINTX=0.6, HGAPX=0.04, FRINGE_AT='both_ends', FRINGE_TYPE='soft_edge_only', TILT=0.0)"
      ]
     },
     "execution_count": 120,
     "metadata": {},
     "output_type": "execute_result"
    }
   ],
   "source": [
    "# Create bend\n",
    "soft2 = SBend(L = 0.1,\n",
    "              P0C = p_in.p0c,\n",
    "              G = 0.5,\n",
    "              DG = 0.0,\n",
    "              E1 = 0.02,\n",
    "              E2 = 0.03,\n",
    "              FINT = 0.5,\n",
    "              HGAP = 0.03,\n",
    "              FINTX = 0.6,\n",
    "              HGAPX = 0.04,\n",
    "              FRINGE_AT = \"both_ends\",\n",
    "              FRINGE_TYPE = \"soft_edge_only\"\n",
    "             )\n",
    "soft2"
   ]
  },
  {
   "cell_type": "markdown",
   "id": "543d373f-728f-4340-a1fa-41ebcbf54412",
   "metadata": {},
   "source": [
    "### One particle test"
   ]
  },
  {
   "cell_type": "code",
   "execution_count": 121,
   "id": "f03057e7-aa15-4411-b62a-43891f7ea032",
   "metadata": {},
   "outputs": [
    {
     "data": {
      "text/plain": [
       "tensor([2.295377457066739e-03, 2.846095539157815e-03, -3.102567377060580e-03,\n",
       "        -1.059808141776569e-03, 1.889344043629332e-03, -2.000000000000002e-03],\n",
       "       dtype=torch.float64)"
      ]
     },
     "execution_count": 121,
     "metadata": {},
     "output_type": "execute_result"
    }
   ],
   "source": [
    "# Outgoing particle\n",
    "p_out = track_element(p_in, soft2)\n",
    "\n",
    "x_py = torch.hstack(p_out[:6])\n",
    "x_py"
   ]
  },
  {
   "cell_type": "code",
   "execution_count": 122,
   "id": "b416a3ff-c3d6-4d6f-b9d7-15220e058855",
   "metadata": {},
   "outputs": [],
   "source": [
    "# Bmad lattice to compare\n",
    "tao = Tao('-lat '+repo_path+'/tests/bmad_lattices/test_bend_soft_both_ends.bmad -noplot')\n",
    "tao.cmd('set particle_start x='+str(coords[0]))\n",
    "tao.cmd('set particle_start px='+str(coords[1]))\n",
    "tao.cmd('set particle_start y='+str(coords[2]))\n",
    "tao.cmd('set particle_start py='+str(coords[3]))\n",
    "tao.cmd('set particle_start z='+str(coords[4]))\n",
    "tao.cmd('set particle_start pz='+str(coords[5]))\n",
    "orbit_out = tao.orbit_at_s(ele=1)"
   ]
  },
  {
   "cell_type": "code",
   "execution_count": 123,
   "id": "68cabe7f-bb9e-4d17-8572-b93cf5a5a4a7",
   "metadata": {},
   "outputs": [
    {
     "data": {
      "text/plain": [
       "tensor([2.295377457066740e-03, 2.846095539157940e-03, -3.102567377060580e-03,\n",
       "        -1.059808141776570e-03, 1.889344043629330e-03, -2.000000000000000e-03],\n",
       "       dtype=torch.float64)"
      ]
     },
     "execution_count": 123,
     "metadata": {},
     "output_type": "execute_result"
    }
   ],
   "source": [
    "# Bmad outgoing particle\n",
    "x_tao = torch.tensor([orbit_out['x'],\n",
    "                      orbit_out['px'],\n",
    "                      orbit_out['y'],\n",
    "                      orbit_out['py'],\n",
    "                      orbit_out['z'],\n",
    "                      orbit_out['pz']], dtype=torch.double)\n",
    "x_tao"
   ]
  },
  {
   "cell_type": "code",
   "execution_count": 124,
   "id": "5612bd02-2781-4d9d-a024-1e7b95121dab",
   "metadata": {},
   "outputs": [
    {
     "data": {
      "text/plain": [
       "True"
      ]
     },
     "execution_count": 124,
     "metadata": {},
     "output_type": "execute_result"
    }
   ],
   "source": [
    "# close to Tao result?\n",
    "torch.allclose(x_py, x_tao, atol=1e-12, rtol = 1e-14)"
   ]
  },
  {
   "cell_type": "markdown",
   "id": "b8294ddf-9c6c-4bdc-81cb-55785c66fe49",
   "metadata": {},
   "source": [
    "### Jacobian test"
   ]
  },
  {
   "cell_type": "code",
   "execution_count": 125,
   "id": "d8247864-ecba-44ff-8f3c-2b623bb4615f",
   "metadata": {},
   "outputs": [],
   "source": [
    "f_bend = lambda x: track_element(Particle(*x, s=p_in.s, p0c=p_in.p0c, mc2=p_in.mc2), soft2)[:6]\n",
    "J = jacobian(f_bend, diff_coords)"
   ]
  },
  {
   "cell_type": "code",
   "execution_count": 126,
   "id": "465ed000-2326-4404-a060-10f0d232f241",
   "metadata": {},
   "outputs": [
    {
     "data": {
      "text/plain": [
       "tensor([[ 9.988927916011799e-01,  1.002672398944702e-01,  1.698659358077027e-08,\n",
       "          2.267909082757021e-06,  0.000000000000000e+00,  1.155549619110725e-03],\n",
       "        [-2.498958463533991e-02,  9.986000216535417e-01,  3.835422098105090e-07,\n",
       "          5.120737463423251e-05,  0.000000000000000e+00,  4.996248682483319e-02],\n",
       "        [-5.120735150492490e-05, -2.869688057667190e-06,  1.000751308898336e+00,\n",
       "          1.003085325135935e-01,  0.000000000000000e+00,  1.049600030821984e-04],\n",
       "        [-6.148621818486901e-07, -3.445721382783641e-08,  1.950630408513815e-02,\n",
       "          1.001204434936523e+00,  0.000000000000000e+00,  6.118828432483073e-05],\n",
       "        [-4.993604157604797e-02, -3.855668605549497e-03, -5.918727938082297e-05,\n",
       "          9.889457585378702e-05,  1.000000000000000e+00, -1.391975410521363e-04],\n",
       "        [ 0.000000000000000e+00,  0.000000000000000e+00,  0.000000000000000e+00,\n",
       "          0.000000000000000e+00,  0.000000000000000e+00,  1.000000000000000e+00]],\n",
       "       dtype=torch.float64)"
      ]
     },
     "execution_count": 126,
     "metadata": {},
     "output_type": "execute_result"
    }
   ],
   "source": [
    "# Jacobian matrix\n",
    "mat_py = torch.vstack(J)\n",
    "mat_py"
   ]
  },
  {
   "cell_type": "code",
   "execution_count": 127,
   "id": "15b1d922-cad7-4fec-94ab-733f57c4aadc",
   "metadata": {},
   "outputs": [
    {
     "data": {
      "text/plain": [
       "tensor([[ 9.988927916011801e-01,  1.002672398944700e-01,  1.698659358077030e-08,\n",
       "          2.267909082757020e-06,  0.000000000000000e+00,  1.155549619110730e-03],\n",
       "        [-2.498958463533910e-02,  9.986000216535420e-01,  3.835422098105100e-07,\n",
       "          5.120737463423270e-05,  0.000000000000000e+00,  4.996248682483330e-02],\n",
       "        [-5.120735150492490e-05, -2.869688057667190e-06,  1.000751308898340e+00,\n",
       "          1.003085325135940e-01,  0.000000000000000e+00,  1.049600030821980e-04],\n",
       "        [-6.148621818486900e-07, -3.445721382783640e-08,  1.950630408513810e-02,\n",
       "          1.001204434936520e+00,  0.000000000000000e+00,  6.118828432483070e-05],\n",
       "        [-4.993604157604800e-02, -3.855668605549500e-03, -5.918727938082300e-05,\n",
       "          9.889457585378700e-05,  1.000000000000000e+00, -1.391975410521580e-04],\n",
       "        [ 0.000000000000000e+00,  0.000000000000000e+00,  0.000000000000000e+00,\n",
       "          0.000000000000000e+00,  0.000000000000000e+00,  1.000000000000000e+00]],\n",
       "       dtype=torch.float64)"
      ]
     },
     "execution_count": 127,
     "metadata": {},
     "output_type": "execute_result"
    }
   ],
   "source": [
    "# Bmad Jacobian\n",
    "bend_tao = tao.matrix(0,1)\n",
    "mat_tao = torch.tensor(bend_tao['mat6'])\n",
    "mat_tao"
   ]
  },
  {
   "cell_type": "code",
   "execution_count": 128,
   "id": "3ac53046-f73e-4766-8ac3-73023f68e243",
   "metadata": {},
   "outputs": [
    {
     "data": {
      "text/plain": [
       "True"
      ]
     },
     "execution_count": 128,
     "metadata": {},
     "output_type": "execute_result"
    }
   ],
   "source": [
    "# close to Tao result?\n",
    "torch.allclose(mat_py, mat_tao, atol=0, rtol=1.0e-12)"
   ]
  },
  {
   "cell_type": "markdown",
   "id": "813562ef-26c3-42f8-981d-4218bc4b26ac",
   "metadata": {},
   "source": [
    "## Hard fringe entrance"
   ]
  },
  {
   "cell_type": "code",
   "execution_count": 129,
   "id": "36d6dafb-988d-4151-8b37-466951548030",
   "metadata": {},
   "outputs": [
    {
     "data": {
      "text/plain": [
       "SBend(L=0.1, P0C=tensor(4.000000000000000e+07, dtype=torch.float64), G=0.5, DG=0.0, E1=0.02, E2=0.0, FINT=0.0, HGAP=0.0, FINTX=0, HGAPX=0, FRINGE_AT='entrance_end', FRINGE_TYPE='hard_edge_only', TILT=0.0)"
      ]
     },
     "execution_count": 129,
     "metadata": {},
     "output_type": "execute_result"
    }
   ],
   "source": [
    "# Create bend\n",
    "hard = SBend(L = 0.1,\n",
    "             P0C = p_in.p0c,\n",
    "             G = 0.5,\n",
    "             DG = 0.0,\n",
    "             E1 = 0.02,\n",
    "             E2 = 0.0,\n",
    "             FINT = 0.0,\n",
    "             HGAP = 0.00,\n",
    "             FINTX = 0,\n",
    "             HGAPX = 0,\n",
    "             FRINGE_AT = \"entrance_end\",\n",
    "             FRINGE_TYPE = \"hard_edge_only\"\n",
    "            )\n",
    "hard"
   ]
  },
  {
   "cell_type": "markdown",
   "id": "4ae2c9b6-d3eb-4c45-9bcb-1aa935e8c723",
   "metadata": {},
   "source": [
    "### One particle test"
   ]
  },
  {
   "cell_type": "code",
   "execution_count": 130,
   "id": "fed77697-a176-4bbf-b363-167700694ffe",
   "metadata": {},
   "outputs": [
    {
     "data": {
      "text/plain": [
       "tensor([2.297526317363004e-03, 2.866006011835172e-03, -3.096847685389165e-03,\n",
       "        -9.654847763270308e-04, 1.891932940825597e-03, -2.000000000000002e-03],\n",
       "       dtype=torch.float64)"
      ]
     },
     "execution_count": 130,
     "metadata": {},
     "output_type": "execute_result"
    }
   ],
   "source": [
    "# Outgoing particle\n",
    "p_out = track_element(p_in, hard)\n",
    "\n",
    "x_py = torch.hstack(p_out[:6])\n",
    "x_py"
   ]
  },
  {
   "cell_type": "code",
   "execution_count": 131,
   "id": "468e985b-da4f-4856-86f5-a26c177cc693",
   "metadata": {},
   "outputs": [],
   "source": [
    "# Bmad lattice to compare\n",
    "tao = Tao('-lat '+repo_path+'/tests/bmad_lattices/test_bend_hard_ent.bmad -noplot')\n",
    "tao.cmd('set particle_start x='+str(coords[0]))\n",
    "tao.cmd('set particle_start px='+str(coords[1]))\n",
    "tao.cmd('set particle_start y='+str(coords[2]))\n",
    "tao.cmd('set particle_start py='+str(coords[3]))\n",
    "tao.cmd('set particle_start z='+str(coords[4]))\n",
    "tao.cmd('set particle_start pz='+str(coords[5]))\n",
    "orbit_out = tao.orbit_at_s(ele=1)"
   ]
  },
  {
   "cell_type": "code",
   "execution_count": 132,
   "id": "31d94ef6-a687-4b7d-a09a-539140e6e14e",
   "metadata": {},
   "outputs": [
    {
     "data": {
      "text/plain": [
       "tensor([2.297526317363000e-03, 2.866006011835170e-03, -3.096847685389160e-03,\n",
       "        -9.654847763270310e-04, 1.891919380637490e-03, -2.000000000000000e-03],\n",
       "       dtype=torch.float64)"
      ]
     },
     "execution_count": 132,
     "metadata": {},
     "output_type": "execute_result"
    }
   ],
   "source": [
    "# Bmad outgoing particle\n",
    "x_tao = torch.tensor([orbit_out['x'],\n",
    "                      orbit_out['px'],\n",
    "                      orbit_out['y'],\n",
    "                      orbit_out['py'],\n",
    "                      orbit_out['z'],\n",
    "                      orbit_out['pz']], dtype=torch.double)\n",
    "x_tao"
   ]
  },
  {
   "cell_type": "code",
   "execution_count": 133,
   "id": "179192b7-3013-4621-8fca-ae7852d5a430",
   "metadata": {},
   "outputs": [
    {
     "data": {
      "text/plain": [
       "True"
      ]
     },
     "execution_count": 133,
     "metadata": {},
     "output_type": "execute_result"
    }
   ],
   "source": [
    "# close to Tao result?\n",
    "torch.allclose(x_py, x_tao, atol=1e-12, rtol = 1e-5)"
   ]
  },
  {
   "cell_type": "markdown",
   "id": "117268ac-1d02-46d8-adb5-c9d97640f8c9",
   "metadata": {},
   "source": [
    "### Jacobian test"
   ]
  },
  {
   "cell_type": "code",
   "execution_count": 134,
   "id": "5308b57c-054d-4f50-af13-5a71d803e24b",
   "metadata": {},
   "outputs": [],
   "source": [
    "f_bend = lambda x: track_element(Particle(*x, s=p_in.s, p0c=p_in.p0c, mc2=p_in.mc2), hard)[:6]\n",
    "J = jacobian(f_bend, diff_coords)"
   ]
  },
  {
   "cell_type": "code",
   "execution_count": 135,
   "id": "01f7ecde-782f-4b1d-bf91-8dbf1bcba3aa",
   "metadata": {},
   "outputs": [
    {
     "data": {
      "text/plain": [
       "tensor([[ 9.998962570786490e-01,  1.002675260014650e-01, -1.503457016141090e-03,\n",
       "          2.199767517128926e-06,  0.000000000000000e+00,  2.209264164503285e-03],\n",
       "        [-1.500165222074242e-02,  9.985994918154745e-01,  2.219540412090482e-05,\n",
       "          4.895157360673543e-05,  0.000000000000000e+00,  4.997945455841134e-02],\n",
       "        [-4.895940769494517e-05,  1.481134121502096e-04,  9.988464273807826e-01,\n",
       "          1.003087120708442e-01,  0.000000000000000e+00,  9.654908702179095e-05],\n",
       "        [ 2.004542539326073e-07,  1.503607374785846e-03, -1.150494092148706e-02,\n",
       "          9.999995990914922e-01,  0.000000000000000e+00, -4.520263559985373e-06],\n",
       "        [-5.000740076693791e-02, -2.800480485142628e-03,  6.954027534561388e-05,\n",
       "          9.700007269844974e-05,  1.000000000000000e+00, -2.418054601647726e-05],\n",
       "        [ 0.000000000000000e+00,  0.000000000000000e+00,  0.000000000000000e+00,\n",
       "          0.000000000000000e+00,  0.000000000000000e+00,  1.000000000000000e+00]],\n",
       "       dtype=torch.float64)"
      ]
     },
     "execution_count": 135,
     "metadata": {},
     "output_type": "execute_result"
    }
   ],
   "source": [
    "# Jacobian matrix\n",
    "mat_py = torch.vstack(J)\n",
    "mat_py"
   ]
  },
  {
   "cell_type": "code",
   "execution_count": 136,
   "id": "605a70e5-2139-4812-8bd3-dece37e6a7ee",
   "metadata": {},
   "outputs": [
    {
     "data": {
      "text/plain": [
       "tensor([[ 9.998962570786490e-01,  1.002675260014650e-01, -1.503457016141090e-03,\n",
       "          2.199767517128930e-06,  0.000000000000000e+00,  2.209264164503290e-03],\n",
       "        [-1.500165222074270e-02,  9.985994918154740e-01,  2.219540412090530e-05,\n",
       "          4.895157360673540e-05,  0.000000000000000e+00,  4.997945455841130e-02],\n",
       "        [-4.895940769494520e-05,  1.481134121502100e-04,  9.988464273807830e-01,\n",
       "          1.003087120708440e-01,  0.000000000000000e+00,  9.654908702179100e-05],\n",
       "        [ 2.004542539326070e-07,  1.503607374785850e-03, -1.150494092148710e-02,\n",
       "          9.999995990914921e-01,  0.000000000000000e+00, -4.520263559985370e-06],\n",
       "        [-5.000741235840330e-02, -2.805000346084490e-03,  7.859525469519101e-05,\n",
       "          9.700067390706751e-05,  1.000000000000000e+00, -2.417366994909980e-05],\n",
       "        [ 0.000000000000000e+00,  0.000000000000000e+00,  0.000000000000000e+00,\n",
       "          0.000000000000000e+00,  0.000000000000000e+00,  1.000000000000000e+00]],\n",
       "       dtype=torch.float64)"
      ]
     },
     "execution_count": 136,
     "metadata": {},
     "output_type": "execute_result"
    }
   ],
   "source": [
    "# Bmad Jacobian\n",
    "bend_tao = tao.matrix(0,1)\n",
    "mat_tao = torch.tensor(bend_tao['mat6'])\n",
    "mat_tao"
   ]
  },
  {
   "cell_type": "code",
   "execution_count": 137,
   "id": "3f28b49a-4101-4d01-ad1a-f9fa71aa40dd",
   "metadata": {},
   "outputs": [
    {
     "data": {
      "text/plain": [
       "True"
      ]
     },
     "execution_count": 137,
     "metadata": {},
     "output_type": "execute_result"
    }
   ],
   "source": [
    "# close to Tao result?\n",
    "torch.allclose(mat_py, mat_tao, atol=0, rtol=2.0e-1)"
   ]
  },
  {
   "cell_type": "markdown",
   "id": "79670de8-f3ab-4357-af61-bfbf78f75809",
   "metadata": {},
   "source": [
    "## Hard fringe exit"
   ]
  },
  {
   "cell_type": "code",
   "execution_count": 138,
   "id": "46797389-14ef-46a1-92fe-86db446a8171",
   "metadata": {},
   "outputs": [
    {
     "data": {
      "text/plain": [
       "SBend(L=0.1, P0C=tensor(4.000000000000000e+07, dtype=torch.float64), G=0.5, DG=0.0, E1=0.0, E2=0.02, FINT=0.0, HGAP=0.0, FINTX=0, HGAPX=0, FRINGE_AT='exit_end', FRINGE_TYPE='hard_edge_only', TILT=0.0)"
      ]
     },
     "execution_count": 138,
     "metadata": {},
     "output_type": "execute_result"
    }
   ],
   "source": [
    "# Create bend\n",
    "hard2 = SBend(L = 0.1,\n",
    "              P0C = p_in.p0c,\n",
    "              G = 0.5,\n",
    "              DG = 0.0,\n",
    "              E1 = 0.0,\n",
    "              E2 = 0.02,\n",
    "              FINT = 0.0,\n",
    "              HGAP = 0.00,\n",
    "              FINTX = 0,\n",
    "              HGAPX = 0,\n",
    "              FRINGE_AT = \"exit_end\",\n",
    "              FRINGE_TYPE = \"hard_edge_only\"\n",
    "             )\n",
    "hard2"
   ]
  },
  {
   "cell_type": "markdown",
   "id": "dea54d1b-3416-44f3-937d-d58a62f9ad08",
   "metadata": {},
   "source": [
    "### One particle test"
   ]
  },
  {
   "cell_type": "code",
   "execution_count": 139,
   "id": "a80c2e65-3ba9-4ae2-bdb5-cdd61db39401",
   "metadata": {},
   "outputs": [
    {
     "data": {
      "text/plain": [
       "tensor([2.290857559360805e-03, 2.868997890418367e-03, -3.100307067512662e-03,\n",
       "        -9.734513263146211e-04, 1.892098440091584e-03, -2.000000000000002e-03],\n",
       "       dtype=torch.float64)"
      ]
     },
     "execution_count": 139,
     "metadata": {},
     "output_type": "execute_result"
    }
   ],
   "source": [
    "# Outgoing particle\n",
    "p_out = track_element(p_in, hard2)\n",
    "\n",
    "x_py = torch.hstack(p_out[:6])\n",
    "x_py"
   ]
  },
  {
   "cell_type": "code",
   "execution_count": 140,
   "id": "0badc331-140c-4541-ba49-43bcbb6cc9c7",
   "metadata": {},
   "outputs": [],
   "source": [
    "# Bmad lattice to compare\n",
    "tao = Tao('-lat '+repo_path+'/tests/bmad_lattices/test_bend_hard_exit.bmad -noplot')\n",
    "tao.cmd('set particle_start x='+str(coords[0]))\n",
    "tao.cmd('set particle_start px='+str(coords[1]))\n",
    "tao.cmd('set particle_start y='+str(coords[2]))\n",
    "tao.cmd('set particle_start py='+str(coords[3]))\n",
    "tao.cmd('set particle_start z='+str(coords[4]))\n",
    "tao.cmd('set particle_start pz='+str(coords[5]))\n",
    "orbit_out = tao.orbit_at_s(ele=1)"
   ]
  },
  {
   "cell_type": "code",
   "execution_count": 141,
   "id": "0e02a56e-ba91-4c2a-8094-47a7599af710",
   "metadata": {},
   "outputs": [
    {
     "data": {
      "text/plain": [
       "tensor([2.290857559360810e-03, 2.868997890418570e-03, -3.100307067512660e-03,\n",
       "        -9.734513263146220e-04, 1.892098440805610e-03, -2.000000000000000e-03],\n",
       "       dtype=torch.float64)"
      ]
     },
     "execution_count": 141,
     "metadata": {},
     "output_type": "execute_result"
    }
   ],
   "source": [
    "# Bmad outgoing particle\n",
    "x_tao = torch.tensor([orbit_out['x'],\n",
    "                      orbit_out['px'],\n",
    "                      orbit_out['y'],\n",
    "                      orbit_out['py'],\n",
    "                      orbit_out['z'],\n",
    "                      orbit_out['pz']], dtype=torch.double)\n",
    "x_tao"
   ]
  },
  {
   "cell_type": "code",
   "execution_count": 142,
   "id": "2d394315-7283-4bd4-84f3-6951bd16d780",
   "metadata": {},
   "outputs": [
    {
     "data": {
      "text/plain": [
       "True"
      ]
     },
     "execution_count": 142,
     "metadata": {},
     "output_type": "execute_result"
    }
   ],
   "source": [
    "# close to Tao result?\n",
    "torch.allclose(x_py, x_tao, atol=1e-12, rtol = 1e-14)"
   ]
  },
  {
   "cell_type": "markdown",
   "id": "a7d59ca7-051a-4fe4-8034-a54a87865b26",
   "metadata": {},
   "source": [
    "### Jacobian test"
   ]
  },
  {
   "cell_type": "code",
   "execution_count": 143,
   "id": "47b2fe76-394c-4ad4-9263-72f6c380b952",
   "metadata": {},
   "outputs": [],
   "source": [
    "f_bend = lambda x: track_element(Particle(*x, s=p_in.s, p0c=p_in.p0c, mc2=p_in.mc2), hard2)[:6]\n",
    "J = jacobian(f_bend, diff_coords)"
   ]
  },
  {
   "cell_type": "code",
   "execution_count": 144,
   "id": "a40672eb-9f93-41a3-bb4a-38478aa527bb",
   "metadata": {},
   "outputs": [
    {
     "data": {
      "text/plain": [
       "tensor([[ 9.988931713303267e-01,  1.002673469850181e-01,  1.553882237915952e-03,\n",
       "          1.580857061508531e-04,  0.000000000000000e+00,  2.216097832943017e-03],\n",
       "        [-1.499988763443865e-02,  9.996023117058469e-01, -1.942387249146361e-07,\n",
       "          4.946078378709275e-05,  0.000000000000000e+00,  5.000153483463163e-02],\n",
       "        [-4.945875175575238e-05, -2.744171583866144e-06,  9.999995403051171e-01,\n",
       "          1.003085472687129e-01,  0.000000000000000e+00,  1.004686315159357e-04],\n",
       "        [ 2.353580236415848e-05, -1.553261146042840e-03, -8.563384399552718e-03,\n",
       "          9.991414007985201e-01,  0.000000000000000e+00, -7.408984892277388e-05],\n",
       "        [-4.997944661507031e-02, -2.798462226675241e-03, -4.449394889299223e-06,\n",
       "          1.000218244124947e-04,  1.000000000000000e+00, -2.417808294212509e-05],\n",
       "        [ 0.000000000000000e+00,  0.000000000000000e+00,  0.000000000000000e+00,\n",
       "          0.000000000000000e+00,  0.000000000000000e+00,  1.000000000000000e+00]],\n",
       "       dtype=torch.float64)"
      ]
     },
     "execution_count": 144,
     "metadata": {},
     "output_type": "execute_result"
    }
   ],
   "source": [
    "# Jacobian matrix\n",
    "mat_py = torch.vstack(J)\n",
    "mat_py"
   ]
  },
  {
   "cell_type": "code",
   "execution_count": 145,
   "id": "2d67d46c-1398-45f4-a39e-1487001e1e70",
   "metadata": {},
   "outputs": [
    {
     "data": {
      "text/plain": [
       "tensor([[ 9.988931713303270e-01,  1.002673469850180e-01,  1.553882237915950e-03,\n",
       "          1.580857061508530e-04,  0.000000000000000e+00,  2.216097832943020e-03],\n",
       "        [-1.499988763443360e-02,  9.996023117058470e-01, -1.942387249146360e-07,\n",
       "          4.946078378709300e-05,  0.000000000000000e+00,  5.000153483463180e-02],\n",
       "        [-4.945875175575240e-05, -2.744171583866140e-06,  9.999995403051170e-01,\n",
       "          1.003085472687130e-01,  0.000000000000000e+00,  1.004686315159360e-04],\n",
       "        [ 2.353580236416020e-05, -1.553261146042840e-03, -8.563384399552620e-03,\n",
       "          9.991414007985200e-01,  0.000000000000000e+00, -7.408984892277390e-05],\n",
       "        [-4.997943426870830e-02, -2.798460986295760e-03, -4.467467887794670e-06,\n",
       "          1.000192960365800e-04,  1.000000000000000e+00, -2.415734069078430e-05],\n",
       "        [ 0.000000000000000e+00,  0.000000000000000e+00,  0.000000000000000e+00,\n",
       "          0.000000000000000e+00,  0.000000000000000e+00,  1.000000000000000e+00]],\n",
       "       dtype=torch.float64)"
      ]
     },
     "execution_count": 145,
     "metadata": {},
     "output_type": "execute_result"
    }
   ],
   "source": [
    "# Bmad Jacobian\n",
    "bend_tao = tao.matrix(0,1)\n",
    "mat_tao = torch.tensor(bend_tao['mat6'])\n",
    "mat_tao"
   ]
  },
  {
   "cell_type": "code",
   "execution_count": 146,
   "id": "6758b1b7-af28-4ecb-a0a1-802c9b806fcc",
   "metadata": {},
   "outputs": [
    {
     "data": {
      "text/plain": [
       "True"
      ]
     },
     "execution_count": 146,
     "metadata": {},
     "output_type": "execute_result"
    }
   ],
   "source": [
    "# close to Tao result?\n",
    "torch.allclose(mat_py, mat_tao, atol=0, rtol=1.0e-2)"
   ]
  },
  {
   "cell_type": "markdown",
   "id": "f93d8fa2-04dc-43a5-8230-ec2bdc3fc7a5",
   "metadata": {},
   "source": [
    "# Sextupole tests"
   ]
  },
  {
   "cell_type": "code",
   "execution_count": 147,
   "id": "9e08cf24-b343-4243-a992-c06683a53508",
   "metadata": {},
   "outputs": [
    {
     "data": {
      "text/plain": [
       "Sextupole(L=0.1, K2=10.0, NUM_STEPS=5, X_OFFSET=0.0, Y_OFFSET=0.0, TILT=0.0)"
      ]
     },
     "execution_count": 147,
     "metadata": {},
     "output_type": "execute_result"
    }
   ],
   "source": [
    "# Create sextupole\n",
    "from bmadx.structures import Sextupole\n",
    "\n",
    "sxtpl = Sextupole(\n",
    "    L = 0.1,\n",
    "    K2 = 10.0,\n",
    "    NUM_STEPS = 5\n",
    ")\n",
    "sxtpl"
   ]
  },
  {
   "cell_type": "markdown",
   "id": "5018576a-e8a9-495d-a638-68a853406f71",
   "metadata": {
    "tags": []
   },
   "source": [
    "## Sextupole one particle test"
   ]
  },
  {
   "cell_type": "code",
   "execution_count": 148,
   "id": "005852c0-d790-47b2-9db2-b20db82e15fc",
   "metadata": {},
   "outputs": [
    {
     "data": {
      "text/plain": [
       "tensor([2.300097668385619e-03, 3.002375257172364e-03, -3.100249396446189e-03,\n",
       "        -1.006460289609605e-03, 1.999967267186112e-03, -2.000000000000000e-03],\n",
       "       dtype=torch.float64)"
      ]
     },
     "execution_count": 148,
     "metadata": {},
     "output_type": "execute_result"
    }
   ],
   "source": [
    "# Outgoing particle\n",
    "p_out = track_element(p_in, sxtpl)\n",
    "\n",
    "x_py = torch.hstack(p_out[:6])\n",
    "x_py"
   ]
  },
  {
   "cell_type": "code",
   "execution_count": 149,
   "id": "109a8c71-26ca-4a57-9e9a-2d389e18c354",
   "metadata": {},
   "outputs": [],
   "source": [
    "# Bmad lattice to compare\n",
    "tao = Tao('-lat '+repo_path+'/tests/bmad_lattices/test_sextupole.bmad -noplot')\n",
    "tao.cmd('set particle_start x='+str(coords[0]))\n",
    "tao.cmd('set particle_start px='+str(coords[1]))\n",
    "tao.cmd('set particle_start y='+str(coords[2]))\n",
    "tao.cmd('set particle_start py='+str(coords[3]))\n",
    "tao.cmd('set particle_start z='+str(coords[4]))\n",
    "tao.cmd('set particle_start pz='+str(coords[5]))\n",
    "orbit_out = tao.orbit_at_s(ele=1)"
   ]
  },
  {
   "cell_type": "code",
   "execution_count": 150,
   "id": "7be97634-3001-4736-84ce-81e9093d9517",
   "metadata": {},
   "outputs": [
    {
     "data": {
      "text/plain": [
       "tensor([2.300722828854150e-03, 3.002336280079460e-03, -3.100519427866320e-03,\n",
       "        -1.006561711070080e-03, 1.999464576378210e-03, -2.000000000000000e-03],\n",
       "       dtype=torch.float64)"
      ]
     },
     "execution_count": 150,
     "metadata": {},
     "output_type": "execute_result"
    }
   ],
   "source": [
    "# Bmad outgoing particle\n",
    "x_tao = torch.tensor([orbit_out['x'],\n",
    "                      orbit_out['px'],\n",
    "                      orbit_out['y'],\n",
    "                      orbit_out['py'],\n",
    "                      orbit_out['z'],\n",
    "                      orbit_out['pz']], dtype=torch.double)\n",
    "x_tao"
   ]
  },
  {
   "cell_type": "code",
   "execution_count": 151,
   "id": "b9c10c9c-d37d-4118-b672-11789dbc7469",
   "metadata": {},
   "outputs": [
    {
     "data": {
      "text/plain": [
       "False"
      ]
     },
     "execution_count": 151,
     "metadata": {},
     "output_type": "execute_result"
    }
   ],
   "source": [
    "# close to Tao result?\n",
    "torch.allclose(x_py, x_tao, atol=0, rtol=1.0e-14)"
   ]
  },
  {
   "cell_type": "code",
   "execution_count": 152,
   "id": "001ed559-43c3-4d24-bcb6-51a81b06a738",
   "metadata": {
    "tags": []
   },
   "outputs": [
    {
     "data": {
      "text/plain": [
       "True"
      ]
     },
     "execution_count": 152,
     "metadata": {},
     "output_type": "execute_result"
    }
   ],
   "source": [
    "# kind of close to Tao result?\n",
    "torch.allclose(x_py, x_tao, atol=0, rtol=1.0e-3)"
   ]
  },
  {
   "cell_type": "markdown",
   "id": "58cdaed2-42e2-4914-bfdc-1bbf9f377995",
   "metadata": {},
   "source": [
    "## Sextupole Jacobian test"
   ]
  },
  {
   "cell_type": "code",
   "execution_count": 153,
   "id": "5251fe25-639e-4798-a0f4-4da8ddaa9829",
   "metadata": {},
   "outputs": [
    {
     "data": {
      "text/plain": [
       "tensor([[ 9.999174357547901e-01,  9.999830059523201e-02, -1.210425426630371e-04,\n",
       "         -2.436898930899204e-06,  0.000000000000000e+00, -9.786516691184767e-08],\n",
       "        [-2.124158062452428e-03,  9.999126249850201e-01, -3.046137894673759e-03,\n",
       "         -1.226487047563603e-04,  0.000000000000000e+00, -2.380124295159301e-06],\n",
       "        [-1.210425966319858e-04, -2.436899110779344e-06,  1.000082566414937e+00,\n",
       "          1.000016994135919e-01,  0.000000000000000e+00,  2.498978986069283e-07],\n",
       "        [-3.046144640173718e-03, -1.226487587148956e-04,  2.124378592369612e-03,\n",
       "          1.000087377257244e+00,  0.000000000000000e+00,  6.473405792825830e-06],\n",
       "        [ 0.000000000000000e+00,  0.000000000000000e+00,  0.000000000000000e+00,\n",
       "          0.000000000000000e+00,  1.000000000000000e+00,  1.641561193496359e-05],\n",
       "        [ 0.000000000000000e+00,  0.000000000000000e+00,  0.000000000000000e+00,\n",
       "          0.000000000000000e+00,  0.000000000000000e+00,  1.000000000000000e+00]],\n",
       "       dtype=torch.float64)"
      ]
     },
     "execution_count": 153,
     "metadata": {},
     "output_type": "execute_result"
    }
   ],
   "source": [
    "# autodiff Jacobian matrix\n",
    "f_sxtpl = lambda x: track_element(Particle(*x, s=p_in.s, p0c=p_in.p0c, mc2=p_in.mc2), sxtpl)[:6]\n",
    "\n",
    "J = jacobian(f_sxtpl, diff_coords)\n",
    "mat_py = torch.vstack(J)\n",
    "mat_py"
   ]
  },
  {
   "cell_type": "code",
   "execution_count": 154,
   "id": "e30cf105-1e88-4e00-9508-2da0c777e257",
   "metadata": {},
   "outputs": [
    {
     "data": {
      "text/plain": [
       "tensor([[ 9.998949838139880e-01,  1.001983563426460e-01, -1.519118520767270e-04,\n",
       "         -5.202875386824220e-06,  0.000000000000000e+00, -3.013230408531040e-04],\n",
       "        [-2.150105518146590e-03,  9.998895600666280e-01, -3.050200806818500e-03,\n",
       "         -1.537229402602310e-04,  0.000000000000000e+00,  1.777161443576140e-07],\n",
       "        [-1.519102303694520e-04, -5.202878468279730e-06,  1.000105027257950e+00,\n",
       "          1.002044602530170e-01,  0.000000000000000e+00,  1.007400815178300e-04],\n",
       "        [-3.050213452397130e-03, -1.537250762985790e-04,  2.150579831127880e-03,\n",
       "          1.000110451350340e+00,  0.000000000000000e+00,  5.731379441954710e-07],\n",
       "        [ 1.629871652728940e-07, -3.013230529168600e-04,  5.625742277080250e-07,\n",
       "          1.007400986059620e-04,  1.000000000000000e+00,  1.742301912282970e-05],\n",
       "        [ 0.000000000000000e+00,  0.000000000000000e+00,  0.000000000000000e+00,\n",
       "          0.000000000000000e+00,  0.000000000000000e+00,  1.000000000000000e+00]],\n",
       "       dtype=torch.float64)"
      ]
     },
     "execution_count": 154,
     "metadata": {},
     "output_type": "execute_result"
    }
   ],
   "source": [
    "# Bmad formula Jacobian\n",
    "sxtpl_tao = tao.matrix(0,1)\n",
    "mat_tao = torch.tensor(sxtpl_tao['mat6'])\n",
    "mat_tao"
   ]
  },
  {
   "cell_type": "code",
   "execution_count": 155,
   "id": "f880d91b-3a55-4c02-905f-757165eff08f",
   "metadata": {
    "tags": []
   },
   "outputs": [
    {
     "data": {
      "text/plain": [
       "False"
      ]
     },
     "execution_count": 155,
     "metadata": {},
     "output_type": "execute_result"
    }
   ],
   "source": [
    "# close to Tao result?\n",
    "torch.allclose(mat_py, mat_tao, atol=0, rtol=1.0e-14)"
   ]
  },
  {
   "cell_type": "code",
   "execution_count": 156,
   "id": "4f29ccb8-f5d8-4fd4-90af-f9e1b61c0c82",
   "metadata": {},
   "outputs": [
    {
     "data": {
      "text/plain": [
       "False"
      ]
     },
     "execution_count": 156,
     "metadata": {},
     "output_type": "execute_result"
    }
   ],
   "source": [
    "# kind of close to Tao result?\n",
    "torch.allclose(mat_py, mat_tao, atol=0, rtol=1e-3)"
   ]
  },
  {
   "cell_type": "code",
   "execution_count": 157,
   "id": "a4c5afaf-99bb-46f3-86e1-3336dbc5fb60",
   "metadata": {
    "tags": []
   },
   "outputs": [
    {
     "data": {
      "text/plain": [
       "tensor([[ True,  True, False, False,  True, False],\n",
       "        [ True,  True,  True, False,  True, False],\n",
       "        [False, False,  True,  True,  True, False],\n",
       "        [ True, False,  True,  True,  True, False],\n",
       "        [False, False, False, False,  True,  True],\n",
       "        [ True,  True,  True,  True,  True,  True]])"
      ]
     },
     "execution_count": 157,
     "metadata": {},
     "output_type": "execute_result"
    }
   ],
   "source": [
    "# matrix elements that fail\n",
    "torch.isclose(mat_py, mat_tao, atol=0, rtol=1e-1)"
   ]
  },
  {
   "cell_type": "markdown",
   "id": "728f4834-c5ae-49e2-8125-27174c4a5085",
   "metadata": {},
   "source": [
    "## Sextupole offset test"
   ]
  },
  {
   "cell_type": "code",
   "execution_count": 158,
   "id": "44b3ca00-2527-4807-b1a9-c52b77bc1f7c",
   "metadata": {},
   "outputs": [
    {
     "data": {
      "text/plain": [
       "Sextupole(L=0.1, K2=10.0, NUM_STEPS=1, X_OFFSET=0.001, Y_OFFSET=-0.002, TILT=0.0)"
      ]
     },
     "execution_count": 158,
     "metadata": {},
     "output_type": "execute_result"
    }
   ],
   "source": [
    "# Create quad with offsetss\n",
    "sxtpl_offset = Sextupole(\n",
    "    L = 0.1,\n",
    "    K2 = 10.0,\n",
    "    X_OFFSET = 1e-3,\n",
    "    Y_OFFSET = -2e-3\n",
    ")\n",
    "sxtpl_offset"
   ]
  },
  {
   "cell_type": "code",
   "execution_count": 159,
   "id": "a53bbd3a-5adf-49cc-9e76-6a880e55b90c",
   "metadata": {},
   "outputs": [
    {
     "data": {
      "text/plain": [
       "tensor([2.300097668385619e-03, 3.002375257172364e-03, -3.100249396446189e-03,\n",
       "        -1.006460289609605e-03, 1.999967267186112e-03, -2.000000000000000e-03],\n",
       "       dtype=torch.float64)"
      ]
     },
     "execution_count": 159,
     "metadata": {},
     "output_type": "execute_result"
    }
   ],
   "source": [
    "# Outgoing particle no offset\n",
    "p_out = track_element(p_in, sxtpl)\n",
    "\n",
    "x_py = torch.hstack(p_out[:6])\n",
    "x_py"
   ]
  },
  {
   "cell_type": "code",
   "execution_count": 160,
   "id": "df64166a-eb6c-4d29-959a-1e275c641d1c",
   "metadata": {},
   "outputs": [
    {
     "data": {
      "text/plain": [
       "tensor([2.300000000000000e-03, 3.000000000000000e-03, -3.100000000000000e-03,\n",
       "        -1.001002004008016e-03, 1.999967267186112e-03, -2.000000000000000e-03],\n",
       "       dtype=torch.float64)"
      ]
     },
     "execution_count": 160,
     "metadata": {},
     "output_type": "execute_result"
    }
   ],
   "source": [
    "# Outgoing particle offset\n",
    "p_out = track_element(p_in, sxtpl_offset)\n",
    "\n",
    "x_py = torch.hstack(p_out[:6])\n",
    "x_py"
   ]
  },
  {
   "cell_type": "code",
   "execution_count": 161,
   "id": "df5e37b8-769d-42bf-8cfe-1838b80e4045",
   "metadata": {},
   "outputs": [],
   "source": [
    "# Bmad lattice to compare\n",
    "tao = Tao('-lat '+repo_path+'/tests/bmad_lattices/test_sextupole_offset.bmad -noplot')\n",
    "tao.cmd('set particle_start x='+str(coords[0]))\n",
    "tao.cmd('set particle_start px='+str(coords[1]))\n",
    "tao.cmd('set particle_start y='+str(coords[2]))\n",
    "tao.cmd('set particle_start py='+str(coords[3]))\n",
    "tao.cmd('set particle_start z='+str(coords[4]))\n",
    "tao.cmd('set particle_start pz='+str(coords[5]))\n",
    "orbit_out = tao.orbit_at_s(ele=1)"
   ]
  },
  {
   "cell_type": "code",
   "execution_count": 162,
   "id": "be313fb2-c327-422c-8a2d-6a4089d8442c",
   "metadata": {},
   "outputs": [
    {
     "data": {
      "text/plain": [
       "tensor([2.300602711603240e-03, 2.999879746214770e-03, -3.100251004319680e-03,\n",
       "        -1.001215494719830e-03, 1.999465207175330e-03, -2.000000000000000e-03],\n",
       "       dtype=torch.float64)"
      ]
     },
     "execution_count": 162,
     "metadata": {},
     "output_type": "execute_result"
    }
   ],
   "source": [
    "# Bmad outgoing particle\n",
    "x_tao = torch.tensor([orbit_out['x'],\n",
    "                      orbit_out['px'],\n",
    "                      orbit_out['y'],\n",
    "                      orbit_out['py'],\n",
    "                      orbit_out['z'],\n",
    "                      orbit_out['pz']], dtype=torch.double)\n",
    "x_tao"
   ]
  },
  {
   "cell_type": "code",
   "execution_count": 163,
   "id": "66c63074-3f27-4f42-b1c5-e47f2d3726d5",
   "metadata": {
    "tags": []
   },
   "outputs": [
    {
     "data": {
      "text/plain": [
       "False"
      ]
     },
     "execution_count": 163,
     "metadata": {},
     "output_type": "execute_result"
    }
   ],
   "source": [
    "# close to Tao result?\n",
    "torch.allclose(x_py, x_tao, atol=0, rtol=1.0e-14)"
   ]
  },
  {
   "cell_type": "code",
   "execution_count": 164,
   "id": "0e0516f3-e5d0-46c8-bd4d-7bf6ede4de13",
   "metadata": {},
   "outputs": [
    {
     "data": {
      "text/plain": [
       "True"
      ]
     },
     "execution_count": 164,
     "metadata": {},
     "output_type": "execute_result"
    }
   ],
   "source": [
    "# kind of close to Tao result?\n",
    "torch.allclose(x_py, x_tao, atol=0, rtol=1.0e-3)"
   ]
  },
  {
   "cell_type": "code",
   "execution_count": 165,
   "id": "5588c4fa-c1c8-4b4e-86fa-f045fa9a6a47",
   "metadata": {},
   "outputs": [
    {
     "data": {
      "text/plain": [
       "tensor([[ 1.000000000000000e+00,  1.000000000000000e-01,  0.000000000000000e+00,\n",
       "          0.000000000000000e+00,  0.000000000000000e+00,  0.000000000000000e+00],\n",
       "        [-1.002004008016032e-03,  1.000000000000000e+00, -1.002004008016032e-03,\n",
       "          0.000000000000000e+00,  0.000000000000000e+00, -0.000000000000000e+00],\n",
       "        [ 0.000000000000000e+00,  0.000000000000000e+00,  1.000000000000000e+00,\n",
       "          1.000000000000000e-01,  0.000000000000000e+00,  0.000000000000000e+00],\n",
       "        [-1.002004008016032e-03,  0.000000000000000e+00,  1.002004008016032e-03,\n",
       "          1.000000000000000e+00,  0.000000000000000e+00,  1.004012032080192e-06],\n",
       "        [ 0.000000000000000e+00,  0.000000000000000e+00,  0.000000000000000e+00,\n",
       "          0.000000000000000e+00,  1.000000000000000e+00,  1.641561193496359e-05],\n",
       "        [ 0.000000000000000e+00,  0.000000000000000e+00,  0.000000000000000e+00,\n",
       "          0.000000000000000e+00,  0.000000000000000e+00,  1.000000000000000e+00]],\n",
       "       dtype=torch.float64)"
      ]
     },
     "execution_count": 165,
     "metadata": {},
     "output_type": "execute_result"
    }
   ],
   "source": [
    "# autodiff Jacobian matrix\n",
    "f_sxtpl_off = lambda x: track_element(\n",
    "    Particle(*x, s=p_in.s, p0c=p_in.p0c, mc2=p_in.mc2),\n",
    "    sxtpl_offset\n",
    ")[:6]\n",
    "\n",
    "J = jacobian(f_sxtpl_off, diff_coords)\n",
    "mat_py = torch.vstack(J)\n",
    "mat_py"
   ]
  },
  {
   "cell_type": "code",
   "execution_count": 166,
   "id": "9d24b8cc-b348-41f9-8640-f92deb89807d",
   "metadata": {},
   "outputs": [
    {
     "data": {
      "text/plain": [
       "tensor([[ 9.999498992463300e-01,  1.002018093030550e-01, -5.010105563286550e-05,\n",
       "         -3.019626757400920e-07,  0.000000000000000e+00, -3.012081463154540e-04],\n",
       "        [-1.150241213732660e-03,  9.999348387936740e-01, -1.050120483022470e-03,\n",
       "         -5.512293159051840e-05,  0.000000000000000e+00,  1.406143546315000e-07],\n",
       "        [-5.010035130481110e-05, -3.019626757400920e-07,  1.000050100653270e+00,\n",
       "          1.002010045722980e-01,  0.000000000000000e+00,  1.004529167962040e-04],\n",
       "        [-1.050130520783950e-03, -5.512376702690520e-05,  1.150361498192750e-03,\n",
       "          1.000065161015240e+00,  0.000000000000000e+00,  2.310269507332220e-07],\n",
       "        [ 1.003776147596250e-07, -3.012081463154540e-04,  2.008305315558290e-07,\n",
       "          1.004529167962040e-04,  1.000000000000000e+00,  1.742175310540000e-05],\n",
       "        [ 0.000000000000000e+00,  0.000000000000000e+00,  0.000000000000000e+00,\n",
       "          0.000000000000000e+00,  0.000000000000000e+00,  1.000000000000000e+00]],\n",
       "       dtype=torch.float64)"
      ]
     },
     "execution_count": 166,
     "metadata": {},
     "output_type": "execute_result"
    }
   ],
   "source": [
    "# Bmad formula Jacobian\n",
    "sxtpl_tao = tao.matrix(0,1)\n",
    "mat_tao = torch.tensor(sxtpl_tao['mat6'])\n",
    "mat_tao"
   ]
  },
  {
   "cell_type": "code",
   "execution_count": 167,
   "id": "7bc96959-7ff6-4e8a-ae9a-951e63cfa801",
   "metadata": {
    "tags": []
   },
   "outputs": [
    {
     "data": {
      "text/plain": [
       "False"
      ]
     },
     "execution_count": 167,
     "metadata": {},
     "output_type": "execute_result"
    }
   ],
   "source": [
    "# close to Tao result?\n",
    "torch.allclose(mat_py, mat_tao, atol=0, rtol=1.0e-14)"
   ]
  },
  {
   "cell_type": "code",
   "execution_count": 168,
   "id": "8bc076f4-f9c9-4d58-b63c-802b70fc651e",
   "metadata": {},
   "outputs": [
    {
     "data": {
      "text/plain": [
       "False"
      ]
     },
     "execution_count": 168,
     "metadata": {},
     "output_type": "execute_result"
    }
   ],
   "source": [
    "# kind of close to Tao result?\n",
    "torch.allclose(mat_py, mat_tao, atol=0, rtol=1.0e-3)"
   ]
  },
  {
   "cell_type": "code",
   "execution_count": 169,
   "id": "a0e81104-b2c5-499b-aeda-58d43d187b15",
   "metadata": {
    "tags": []
   },
   "outputs": [
    {
     "data": {
      "text/plain": [
       "tensor([[ True,  True, False, False,  True, False],\n",
       "        [False,  True,  True, False,  True, False],\n",
       "        [False, False,  True,  True,  True, False],\n",
       "        [ True, False, False,  True,  True, False],\n",
       "        [False, False, False, False,  True,  True],\n",
       "        [ True,  True,  True,  True,  True,  True]])"
      ]
     },
     "execution_count": 169,
     "metadata": {},
     "output_type": "execute_result"
    }
   ],
   "source": [
    "# matrix elements that fail\n",
    "torch.isclose(mat_py, mat_tao, atol=0, rtol=1e-1)"
   ]
  },
  {
   "cell_type": "markdown",
   "id": "fd650cb1-04f8-49b0-bdc5-518bcda51943",
   "metadata": {},
   "source": [
    "## Sextupole tilt test (transverse rotation)"
   ]
  },
  {
   "cell_type": "code",
   "execution_count": 170,
   "id": "2417c7ff-3156-4022-9b41-e8e77a332b77",
   "metadata": {},
   "outputs": [
    {
     "data": {
      "text/plain": [
       "Sextupole(L=0.1, K2=10.0, NUM_STEPS=1, X_OFFSET=0.0, Y_OFFSET=0.0, TILT=0.3)"
      ]
     },
     "execution_count": 170,
     "metadata": {},
     "output_type": "execute_result"
    }
   ],
   "source": [
    "# Create quadrupole with tilt\n",
    "sxtpl_tilt = Sextupole(\n",
    "    L = 0.1,\n",
    "    K2 = 10.0,\n",
    "    TILT = 0.3)\n",
    "sxtpl_tilt"
   ]
  },
  {
   "cell_type": "code",
   "execution_count": 171,
   "id": "58a6436e-ac8f-4f85-8ef7-2fcb34997d46",
   "metadata": {},
   "outputs": [
    {
     "data": {
      "text/plain": [
       "tensor([2.300097668385619e-03, 3.002375257172364e-03, -3.100249396446189e-03,\n",
       "        -1.006460289609605e-03, 1.999967267186112e-03, -2.000000000000000e-03],\n",
       "       dtype=torch.float64)"
      ]
     },
     "execution_count": 171,
     "metadata": {},
     "output_type": "execute_result"
    }
   ],
   "source": [
    "# Outgoing particle no tilt\n",
    "p_out = track_element(p_in, sxtpl)\n",
    "x_py = torch.hstack(p_out[:6])\n",
    "x_py"
   ]
  },
  {
   "cell_type": "code",
   "execution_count": 172,
   "id": "18d05dd3-7b28-4f33-98b0-18e853fb1232",
   "metadata": {},
   "outputs": [
    {
     "data": {
      "text/plain": [
       "tensor([2.300000000000000e-03, 3.006266519417276e-03, -3.099999999999999e-03,\n",
       "        -1.001774892320196e-03, 1.999967267186112e-03, -2.000000000000000e-03],\n",
       "       dtype=torch.float64)"
      ]
     },
     "execution_count": 172,
     "metadata": {},
     "output_type": "execute_result"
    }
   ],
   "source": [
    "# Outgoing particle tilt\n",
    "p_out = track_element(p_in, sxtpl_tilt)\n",
    "\n",
    "x_py = torch.hstack(p_out[:6])\n",
    "x_py"
   ]
  },
  {
   "cell_type": "code",
   "execution_count": 173,
   "id": "2b549af7-0733-4aa9-be0a-8b543af541a4",
   "metadata": {},
   "outputs": [],
   "source": [
    "# Bmad lattice to compare\n",
    "tao = Tao('-lat '+repo_path+'/tests/bmad_lattices/test_sextupole_tilt.bmad -noplot')\n",
    "tao.cmd('set particle_start x='+str(coords[0]))\n",
    "tao.cmd('set particle_start px='+str(coords[1]))\n",
    "tao.cmd('set particle_start y='+str(coords[2]))\n",
    "tao.cmd('set particle_start py='+str(coords[3]))\n",
    "tao.cmd('set particle_start z='+str(coords[4]))\n",
    "tao.cmd('set particle_start pz='+str(coords[5]))\n",
    "orbit_out = tao.orbit_at_s(ele=1)"
   ]
  },
  {
   "cell_type": "code",
   "execution_count": 174,
   "id": "1982563f-d3e0-46e8-9edd-59aeb9e7adfd",
   "metadata": {},
   "outputs": [
    {
     "data": {
      "text/plain": [
       "tensor([2.300916042099510e-03, 3.006591889759490e-03, -3.100289649913260e-03,\n",
       "        -1.002257281145800e-03, 1.999464226059350e-03, -2.000000000000000e-03],\n",
       "       dtype=torch.float64)"
      ]
     },
     "execution_count": 174,
     "metadata": {},
     "output_type": "execute_result"
    }
   ],
   "source": [
    "# Bmad outgoing particle\n",
    "x_tao = torch.tensor(\n",
    "    [orbit_out['x'],\n",
    "     orbit_out['px'],\n",
    "     orbit_out['y'],\n",
    "     orbit_out['py'],\n",
    "     orbit_out['z'],\n",
    "     orbit_out['pz']], dtype=torch.double\n",
    ")\n",
    "x_tao"
   ]
  },
  {
   "cell_type": "code",
   "execution_count": 175,
   "id": "ac052b36-cef1-4bd9-b985-30e4bbb0f83f",
   "metadata": {},
   "outputs": [
    {
     "data": {
      "text/plain": [
       "False"
      ]
     },
     "execution_count": 175,
     "metadata": {},
     "output_type": "execute_result"
    }
   ],
   "source": [
    "# close to Tao result?\n",
    "torch.allclose(x_py, x_tao, atol=0, rtol=1.0e-14)"
   ]
  },
  {
   "cell_type": "code",
   "execution_count": 176,
   "id": "f0f45067-018c-4eec-9646-d5a605c0bafd",
   "metadata": {},
   "outputs": [
    {
     "data": {
      "text/plain": [
       "True"
      ]
     },
     "execution_count": 176,
     "metadata": {},
     "output_type": "execute_result"
    }
   ],
   "source": [
    "# kind of close to Tao result?\n",
    "torch.allclose(x_py, x_tao, atol=0, rtol=1.0e-3)"
   ]
  },
  {
   "cell_type": "code",
   "execution_count": 177,
   "id": "9abfc072-91dd-4868-ac3c-76684e96b95e",
   "metadata": {},
   "outputs": [
    {
     "data": {
      "text/plain": [
       "tensor([[ 1.000000000000000e+00,  1.000000000000000e-01,  0.000000000000000e+00,\n",
       "          0.000000000000000e+00,  0.000000000000000e+00,  0.000000000000000e+00],\n",
       "        [ 1.108978749840803e-03,  1.000000000000000e+00, -3.438360444956874e-03,\n",
       "          0.000000000000000e+00,  0.000000000000000e+00, -6.279077572420955e-06],\n",
       "        [ 0.000000000000000e+00,  0.000000000000000e+00,  1.000000000000000e+00,\n",
       "          1.000000000000000e-01,  0.000000000000000e+00,  0.000000000000000e+00],\n",
       "        [-3.438360444956874e-03,  0.000000000000000e+00, -1.108978749840803e-03,\n",
       "          1.000000000000000e+00,  0.000000000000000e+00,  1.778449218632936e-06],\n",
       "        [ 0.000000000000000e+00,  0.000000000000000e+00,  0.000000000000000e+00,\n",
       "          0.000000000000000e+00,  1.000000000000000e+00,  1.641561193496359e-05],\n",
       "        [ 0.000000000000000e+00,  0.000000000000000e+00,  0.000000000000000e+00,\n",
       "          0.000000000000000e+00,  0.000000000000000e+00,  1.000000000000000e+00]],\n",
       "       dtype=torch.float64)"
      ]
     },
     "execution_count": 177,
     "metadata": {},
     "output_type": "execute_result"
    }
   ],
   "source": [
    "# autodiff Jacobian matrix\n",
    "f_sxtpl_tilt = lambda x: track_element(\n",
    "    Particle(*x, s=p_in.s, p0c=p_in.p0c, mc2=p_in.mc2),\n",
    "    sxtpl_tilt\n",
    ")[:6]\n",
    "\n",
    "J = jacobian(f_sxtpl_tilt, diff_coords)\n",
    "mat_py = torch.vstack(J)\n",
    "mat_py"
   ]
  },
  {
   "cell_type": "code",
   "execution_count": 178,
   "id": "e8778f73-faa4-4210-8103-ba78808b956a",
   "metadata": {},
   "outputs": [
    {
     "data": {
      "text/plain": [
       "tensor([[ 1.000055450237350e+00,  1.002018121746740e-01, -1.719202764607350e-04,\n",
       "         -3.023939511674620e-07,  0.000000000000000e+00, -3.015221137976090e-04],\n",
       "        [ 1.052862644367350e-03,  1.000050014693330e+00, -3.580494475843810e-03,\n",
       "         -1.868520004240650e-04,  0.000000000000000e+00, -3.378937529859550e-07],\n",
       "        [-1.719192273213490e-04, -3.023939511709320e-07,  9.999445512466359e-01,\n",
       "          1.002010056330370e-01,  0.000000000000000e+00,  1.004916421965590e-04],\n",
       "        [-3.580529654996660e-03, -1.868532025687820e-04, -1.052166109251760e-03,\n",
       "          9.999499868370290e-01,  0.000000000000000e+00,  5.121106595242230e-07],\n",
       "        [-3.392741440886320e-07, -3.015221137976090e-04,  4.617240082008190e-07,\n",
       "          1.004916421965590e-04,  1.000000000000000e+00,  1.742371929933270e-05],\n",
       "        [ 0.000000000000000e+00,  0.000000000000000e+00,  0.000000000000000e+00,\n",
       "          0.000000000000000e+00,  0.000000000000000e+00,  1.000000000000000e+00]],\n",
       "       dtype=torch.float64)"
      ]
     },
     "execution_count": 178,
     "metadata": {},
     "output_type": "execute_result"
    }
   ],
   "source": [
    "# Bmad formula Jacobian\n",
    "sxtpl_tao = tao.matrix(0,1)\n",
    "mat_tao = torch.tensor(sxtpl_tao['mat6'])\n",
    "mat_tao"
   ]
  },
  {
   "cell_type": "code",
   "execution_count": 179,
   "id": "1027cc5c-927c-42f1-998b-481a9bd335f2",
   "metadata": {
    "tags": []
   },
   "outputs": [
    {
     "data": {
      "text/plain": [
       "False"
      ]
     },
     "execution_count": 179,
     "metadata": {},
     "output_type": "execute_result"
    }
   ],
   "source": [
    "# close to Tao result?\n",
    "torch.allclose(mat_py, mat_tao, atol=0, rtol=1.0e-14)"
   ]
  },
  {
   "cell_type": "code",
   "execution_count": 180,
   "id": "f380f946-b004-490d-b383-02e3aff006d9",
   "metadata": {
    "tags": []
   },
   "outputs": [
    {
     "data": {
      "text/plain": [
       "False"
      ]
     },
     "execution_count": 180,
     "metadata": {},
     "output_type": "execute_result"
    }
   ],
   "source": [
    "# kind of close to Tao result?\n",
    "torch.allclose(mat_py, mat_tao, atol=0, rtol=1.0e-3)"
   ]
  },
  {
   "cell_type": "code",
   "execution_count": 181,
   "id": "92c9c2e9-8ea0-489c-835e-61f1b38d86ef",
   "metadata": {
    "tags": []
   },
   "outputs": [
    {
     "data": {
      "text/plain": [
       "tensor([[ True,  True, False, False,  True, False],\n",
       "        [ True,  True,  True, False,  True, False],\n",
       "        [False, False,  True,  True,  True, False],\n",
       "        [ True, False,  True,  True,  True, False],\n",
       "        [False, False, False, False,  True,  True],\n",
       "        [ True,  True,  True,  True,  True,  True]])"
      ]
     },
     "execution_count": 181,
     "metadata": {},
     "output_type": "execute_result"
    }
   ],
   "source": [
    "# matrix elements that fail\n",
    "torch.isclose(mat_py, mat_tao, atol=0, rtol=1e-1)"
   ]
  },
  {
   "cell_type": "code",
   "execution_count": null,
   "id": "12ffc836-0e60-44ee-855c-bd25623df75f",
   "metadata": {},
   "outputs": [],
   "source": []
  }
 ],
 "metadata": {
  "kernelspec": {
   "display_name": "ps-reconstruction",
   "language": "python",
   "name": "python3"
  },
  "language_info": {
   "codemirror_mode": {
    "name": "ipython",
    "version": 3
   },
   "file_extension": ".py",
   "mimetype": "text/x-python",
   "name": "python",
   "nbconvert_exporter": "python",
   "pygments_lexer": "ipython3",
   "version": "3.10.12"
  },
  "toc-autonumbering": false,
  "toc-showcode": false,
  "toc-showmarkdowntxt": false,
  "toc-showtags": false
 },
 "nbformat": 4,
 "nbformat_minor": 5
}
